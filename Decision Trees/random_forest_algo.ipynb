{
 "cells": [
  {
   "cell_type": "markdown",
   "metadata": {},
   "source": [
    "# RANDOM FOREST"
   ]
  },
  {
   "cell_type": "code",
   "execution_count": null,
   "metadata": {
    "collapsed": true
   },
   "outputs": [],
   "source": []
  },
  {
   "cell_type": "markdown",
   "metadata": {},
   "source": [
    "# LOAD THE DEPENDANCIES"
   ]
  },
  {
   "cell_type": "markdown",
   "metadata": {},
   "source": [
    "## Pandas"
   ]
  },
  {
   "cell_type": "code",
   "execution_count": 82,
   "metadata": {
    "ExecuteTime": {
     "end_time": "2019-07-01T02:03:33.096213Z",
     "start_time": "2019-07-01T02:03:33.083212Z"
    },
    "collapsed": true
   },
   "outputs": [],
   "source": [
    "import pandas as pd\n",
    "from pandas import set_option\n",
    "from pandas.plotting import scatter_matrix"
   ]
  },
  {
   "cell_type": "markdown",
   "metadata": {},
   "source": [
    "## Numpy"
   ]
  },
  {
   "cell_type": "code",
   "execution_count": 83,
   "metadata": {
    "ExecuteTime": {
     "end_time": "2019-07-01T02:03:33.384230Z",
     "start_time": "2019-07-01T02:03:33.376229Z"
    },
    "collapsed": true
   },
   "outputs": [],
   "source": [
    "import numpy as np\n",
    "from numpy import set_printoptions"
   ]
  },
  {
   "cell_type": "markdown",
   "metadata": {},
   "source": [
    "## Matplotlib & Seaborn"
   ]
  },
  {
   "cell_type": "code",
   "execution_count": 84,
   "metadata": {
    "ExecuteTime": {
     "end_time": "2019-07-01T02:03:33.688247Z",
     "start_time": "2019-07-01T02:03:33.673246Z"
    },
    "collapsed": true
   },
   "outputs": [],
   "source": [
    "%matplotlib inline\n",
    "import matplotlib.pyplot as plt\n",
    "from matplotlib.colors import ListedColormap\n",
    "import seaborn as sns\n",
    "sns.set()\n",
    "import graphviz"
   ]
  },
  {
   "cell_type": "markdown",
   "metadata": {},
   "source": [
    "## sklearn"
   ]
  },
  {
   "cell_type": "code",
   "execution_count": 85,
   "metadata": {
    "ExecuteTime": {
     "end_time": "2019-07-01T02:03:34.009265Z",
     "start_time": "2019-07-01T02:03:33.981264Z"
    }
   },
   "outputs": [],
   "source": [
    "from sklearn import tree\n",
    "from sklearn.ensemble import RandomForestClassifier\n",
    "from sklearn.datasets import make_classification\n",
    "from sklearn.cross_validation import train_test_split\n",
    "from sklearn.metrics import accuracy_score\n",
    "from sklearn.metrics import confusion_matrix\n",
    "from sklearn.metrics import precision_score,recall_score\n",
    "from sklearn import preprocessing\n",
    "from sklearn.preprocessing import MinMaxScaler\n",
    "from sklearn.preprocessing import StandardScaler\n",
    "from sklearn.utils.multiclass import unique_labels\n",
    "from sklearn.model_selection import cross_val_score\n",
    "from sklearn.decomposition import PCA \n",
    "from sklearn.manifold import Isomap"
   ]
  },
  {
   "cell_type": "markdown",
   "metadata": {},
   "source": [
    "## Math & statistics"
   ]
  },
  {
   "cell_type": "code",
   "execution_count": 86,
   "metadata": {
    "ExecuteTime": {
     "end_time": "2019-07-01T02:03:34.308283Z",
     "start_time": "2019-07-01T02:03:34.297282Z"
    },
    "collapsed": true
   },
   "outputs": [],
   "source": [
    "from scipy import stats\n",
    "from scipy.stats import norm\n",
    "import math"
   ]
  },
  {
   "cell_type": "markdown",
   "metadata": {},
   "source": [
    "## System"
   ]
  },
  {
   "cell_type": "code",
   "execution_count": 87,
   "metadata": {
    "ExecuteTime": {
     "end_time": "2019-07-01T02:03:34.630301Z",
     "start_time": "2019-07-01T02:03:34.618300Z"
    },
    "collapsed": true
   },
   "outputs": [],
   "source": [
    "import os\n",
    "import sys\n",
    "import pprint\n",
    "sys.path.insert(0, \"C:\\\\Users\\\\Crystal\\\\Desktop\\\\Programs\\\\my-modules-and-libraries\")\n",
    "os.environ[\"PATH\"] += os.pathsep + 'C:/Program Files (x86)/Graphviz2.38/bin/'"
   ]
  },
  {
   "cell_type": "markdown",
   "metadata": {},
   "source": [
    "## notebook widgets"
   ]
  },
  {
   "cell_type": "code",
   "execution_count": 88,
   "metadata": {
    "ExecuteTime": {
     "end_time": "2019-07-01T02:03:34.951319Z",
     "start_time": "2019-07-01T02:03:34.938319Z"
    },
    "collapsed": true
   },
   "outputs": [],
   "source": [
    "import ipywidgets as widgets\n",
    "from IPython.display import Image\n",
    "from IPython.display import display, Math, Latex\n",
    "from IPython.core.interactiveshell import InteractiveShell  \n",
    "# InteractiveShell.ast_node_interactivity = \"all\""
   ]
  },
  {
   "cell_type": "markdown",
   "metadata": {},
   "source": [
    "# FUNCTIONS"
   ]
  },
  {
   "cell_type": "markdown",
   "metadata": {},
   "source": [
    "## label Encoding"
   ]
  },
  {
   "cell_type": "code",
   "execution_count": 89,
   "metadata": {
    "ExecuteTime": {
     "end_time": "2019-07-01T02:03:35.612357Z",
     "start_time": "2019-07-01T02:03:35.582355Z"
    },
    "collapsed": true
   },
   "outputs": [],
   "source": [
    "def label_encoding(dataset,input_headers):\n",
    "    \n",
    "    for i in input_headers:\n",
    "        \n",
    "        the_data_type=dataset[i].dtype.name\n",
    "        if (the_data_type=='object'):\n",
    "            lable_enc=preprocessing.LabelEncoder()\n",
    "            lable_enc.fit(dataset[i])\n",
    "            labels=lable_enc.classes_   #this is an array\n",
    "            labels=list(labels) #converting the labels array to a list\n",
    "            print(labels)\n",
    "            dataset[i]=lable_enc.transform(dataset[i])\n",
    "\n",
    "            return labels\n",
    "    \n",
    "        else:\n",
    "            c=list(np.unique(dataset[i]))\n",
    "            return [str(x) for x in c]"
   ]
  },
  {
   "cell_type": "markdown",
   "metadata": {},
   "source": [
    "## Feature Scaling"
   ]
  },
  {
   "cell_type": "code",
   "execution_count": 90,
   "metadata": {
    "ExecuteTime": {
     "end_time": "2019-07-01T02:03:35.944376Z",
     "start_time": "2019-07-01T02:03:35.924375Z"
    },
    "collapsed": true
   },
   "outputs": [],
   "source": [
    "def feature_scaling(X_train,X_test):\n",
    "    sc_X=StandardScaler()\n",
    "    X_train=sc_X.fit_transform(X=X_train,y=None)\n",
    "    X_test=sc_X.fit_transform(X=X_test,y=None)\n",
    "\n",
    "    print(sc_X.fit(X_train))\n",
    "    print(X_train[0:5])\n",
    "    \n",
    "    \n",
    "    \n",
    "    return X_train, X_test"
   ]
  },
  {
   "cell_type": "markdown",
   "metadata": {},
   "source": [
    "## Visualization"
   ]
  },
  {
   "cell_type": "markdown",
   "metadata": {},
   "source": [
    "### Plot the data space (scatter)"
   ]
  },
  {
   "cell_type": "code",
   "execution_count": 91,
   "metadata": {
    "ExecuteTime": {
     "end_time": "2019-07-01T02:03:36.764423Z",
     "start_time": "2019-07-01T02:03:36.605414Z"
    },
    "collapsed": true
   },
   "outputs": [],
   "source": [
    "def plot_of_data_space(dataset,data,labels,input_headers):\n",
    "    \n",
    "    \n",
    "    xx_1=pd.DataFrame(data[:,0]) \n",
    "    xx_2=pd.DataFrame(data[:,1]) \n",
    "    y=pd.DataFrame(labels)\n",
    "    \n",
    "   \n",
    "    plt.figure(figsize=(15,10)) \n",
    "    b=plt.scatter(xx_1[y==0],xx_2[y==0],color='b') \n",
    "    r=plt.scatter(xx_1[y==1],xx_2[y==1],color='r')\n",
    "    g=plt.scatter(xx_1[y==2],xx_2[y==2],color='g') \n",
    "    bl=plt.scatter(xx_1[y==3],xx_2[y==3],color='black')\n",
    "    \n",
    "\n",
    "    plt.xlabel(input_headers[0])\n",
    "    plt.ylabel(input_headers[1])\n",
    "\n",
    "    plt.grid(b=True)\n",
    "    plt.legend((b,r,g,bl),tuple(np.unique(labels)))\n",
    "    plt.show()\n"
   ]
  },
  {
   "cell_type": "markdown",
   "metadata": {},
   "source": [
    "### Feature Distributions (histograms)"
   ]
  },
  {
   "cell_type": "code",
   "execution_count": 92,
   "metadata": {
    "ExecuteTime": {
     "end_time": "2019-07-01T02:03:37.068440Z",
     "start_time": "2019-07-01T02:03:36.992436Z"
    },
    "collapsed": true
   },
   "outputs": [],
   "source": [
    "def feature_distributions(df,target_header,*args):\n",
    "    \n",
    "    data=df.drop(target_header,axis=1,inplace=False)\n",
    "\n",
    "    num_plot_rows=len(data.columns)\n",
    "\n",
    "    print (classes)\n",
    "    \n",
    "    label_encoder = preprocessing.LabelEncoder()\n",
    "    df[target_header]=label_encoder.fit_transform(df[target_header])\n",
    "    labels=label_encoder.classes_   #this is an array\n",
    "    labels=list(labels) #converting the labels array to a list\n",
    "    print (labels)\n",
    "\n",
    "    fig = plt.figure(figsize = (20,num_plot_rows*4))\n",
    "    j = 0\n",
    "\n",
    "    ax=[]\n",
    "    colors=['b','r','g','black']\n",
    "    for i in data.columns:\n",
    "        plt.subplot(num_plot_rows, 4, j+1)\n",
    "        j += 1\n",
    "        for k in range(len(labels)):\n",
    "    #         print(k)\n",
    "            a=sns.distplot(data[i][df[target_header]==k], color=colors[k], label = str(labels[k])+classes[k]);\n",
    "            ax.append(a)\n",
    "        plt.legend(loc='best')\n",
    "    \n",
    "    fig.suptitle(target_header+ ' Data Analysis')\n",
    "    fig.tight_layout()\n",
    "    # fig.subplots_adjust(top=0.95)\n",
    "    plt.show()"
   ]
  },
  {
   "cell_type": "markdown",
   "metadata": {},
   "source": [
    "## Preprocessing: Splitting the dataset"
   ]
  },
  {
   "cell_type": "code",
   "execution_count": 93,
   "metadata": {
    "ExecuteTime": {
     "end_time": "2019-07-01T02:03:37.369458Z",
     "start_time": "2019-07-01T02:03:37.358457Z"
    },
    "collapsed": true
   },
   "outputs": [],
   "source": [
    "def split_the_dataset(dataset,input_headers,target_header):\n",
    "    \n",
    "    X=dataset[input_headers]\n",
    "    y=dataset[target_header]\n",
    "    \n",
    "    X.head()\n",
    "    \n",
    "    return X,y"
   ]
  },
  {
   "cell_type": "markdown",
   "metadata": {},
   "source": [
    "## Replacing Zeros"
   ]
  },
  {
   "cell_type": "code",
   "execution_count": 94,
   "metadata": {
    "ExecuteTime": {
     "end_time": "2019-07-01T02:03:37.763480Z",
     "start_time": "2019-07-01T02:03:37.746479Z"
    },
    "collapsed": true
   },
   "outputs": [],
   "source": [
    "def replacing_zeros(dataset,the_headers):\n",
    "    \"\"\"Function used to remove zeros from numeric features when 0 is not practical\"\"\"\n",
    "\n",
    "    for header in the_headers:\n",
    "        dataset[header]=dataset[header].replace(0,np.nan)\n",
    "        mean=int(dataset[header].mean(skipna=True))\n",
    "        dataset[header]=dataset[header].replace(np.nan,mean)\n",
    "        \n",
    "    return dataset"
   ]
  },
  {
   "cell_type": "markdown",
   "metadata": {},
   "source": [
    "## Feature Correlations"
   ]
  },
  {
   "cell_type": "code",
   "execution_count": 95,
   "metadata": {
    "ExecuteTime": {
     "end_time": "2019-07-01T02:03:38.177504Z",
     "start_time": "2019-07-01T02:03:38.128501Z"
    },
    "collapsed": true
   },
   "outputs": [],
   "source": [
    "def correlation_matrix(dataset,input_headers,target_header):\n",
    "    \n",
    "    correlation_threshold=.7\n",
    "    \n",
    "    feature_matrix=dataset[input_headers+target_header]\n",
    "    corr=feature_matrix.corr().abs()\n",
    "    corr\n",
    "    \n",
    "    plt.figure(figsize=(10,10))\n",
    "    corr_plot=sns.heatmap(corr,cmap=\"Reds\",annot=True)\n",
    "    \n",
    "#     corr_pair=sns.pairplot(dataset,hue=target_header[0])\n",
    "    plt.show()\n",
    "    \n",
    "    corr_to_target=corr[target_header[0]].sort_values(ascending=False)\n",
    "    print(f'Correlations with respect to target:\\n{corr_to_target}\\n')\n",
    "    \n",
    "#     high_corr_drop=[i for i in ctt.index if any (ctt.iloc[i]>.50)]\n",
    "    high_corr_drop=[]\n",
    "    for x in range(len(corr_to_target)):\n",
    "        if (corr_to_target.iloc[x]>correlation_threshold):\n",
    "            high_corr_drop.append(corr_to_target.index[x])\n",
    "    print(f'Recommended features to drop due to high correlation (greater than {correlation_threshold}) to target variable:\\n{high_corr_drop}')\n",
    "    \n",
    "    \n",
    "    return corr     #corr_pair \n",
    "    "
   ]
  },
  {
   "cell_type": "markdown",
   "metadata": {},
   "source": [
    "## Drop Unwanted Features"
   ]
  },
  {
   "cell_type": "code",
   "execution_count": 96,
   "metadata": {
    "ExecuteTime": {
     "end_time": "2019-07-01T02:03:38.544525Z",
     "start_time": "2019-07-01T02:03:38.531524Z"
    },
    "collapsed": true
   },
   "outputs": [],
   "source": [
    "def feature_drop(dataset,headers_to_drop):\n",
    "    \n",
    "    dataset.drop(labels=headers_to_drop,axis=1,inplace=True)\n",
    "    dataset.head()"
   ]
  },
  {
   "cell_type": "markdown",
   "metadata": {},
   "source": [
    "## Principal Component Analysis (PCA)"
   ]
  },
  {
   "cell_type": "code",
   "execution_count": 97,
   "metadata": {
    "ExecuteTime": {
     "end_time": "2019-07-01T02:03:38.964549Z",
     "start_time": "2019-07-01T02:03:38.929547Z"
    },
    "collapsed": true
   },
   "outputs": [],
   "source": [
    "def pca(dataset,input_headers,target_header,*args):\n",
    "    \n",
    "    feature_matrix=dataset[input_headers]\n",
    "    model = PCA(n_components=2)            # 2. Instantiate the model with hyperparameters\n",
    "    model.fit(feature_matrix)  # 3. Fit to data. Notice y is not specified!\n",
    "    X_2D = model.transform(feature_matrix)         # 4. Transform the data to two dimensions\n",
    "\n",
    "\n",
    "    dataset['PCA1'] = X_2D[:, 0]\n",
    "    dataset['PCA2'] = X_2D[:, 1]\n",
    "    \n",
    "    sns.lmplot(\"PCA1\", \"PCA2\", hue=target_header[0], data=dataset, fit_reg=False);\n",
    "    \n",
    "#     f,ax=plt.subplots(figsize=(8, 8))\n",
    "#     cmap = sns.cubehelix_palette(dark=.3, light=.8, as_cmap=True)\n",
    "#     ax=sns.scatterplot(\"PCA1\", \"PCA2\", hue=target_header[0],style=target_header[0],\n",
    "#                     data=dataset,palette=\"Set1\",label = None,legend=False,ax=ax).set_title(\"PCA Variables per Target Class\");\n",
    "    plt.title(\"PCA Variables per Target Class\")\n",
    "    plt.legend(title=target_header[0], loc='lower right', labels=classes)"
   ]
  },
  {
   "cell_type": "markdown",
   "metadata": {},
   "source": [
    "# MAIN PROGRAM"
   ]
  },
  {
   "cell_type": "markdown",
   "metadata": {},
   "source": [
    "## Get Data"
   ]
  },
  {
   "cell_type": "code",
   "execution_count": 98,
   "metadata": {
    "ExecuteTime": {
     "end_time": "2019-07-01T02:03:39.961606Z",
     "start_time": "2019-07-01T02:03:39.901602Z"
    }
   },
   "outputs": [
    {
     "name": "stdout",
     "output_type": "stream",
     "text": [
      "<class 'pandas.core.frame.DataFrame'>\n",
      "RangeIndex: 150 entries, 0 to 149\n",
      "Data columns (total 6 columns):\n",
      "Id               150 non-null int64\n",
      "SepalLengthCm    150 non-null float64\n",
      "SepalWidthCm     150 non-null float64\n",
      "PetalLengthCm    150 non-null float64\n",
      "PetalWidthCm     150 non-null float64\n",
      "Species          150 non-null object\n",
      "dtypes: float64(4), int64(1), object(1)\n",
      "memory usage: 7.1+ KB\n"
     ]
    }
   ],
   "source": [
    "if __name__ == \"__main__\":\n",
    "    \n",
    "    \n",
    "    location=r'C:/Users/Crystal/Desktop/Programs/dataset_repo/iris_/iris_data.csv'\n",
    "#     location=r'C:\\Users\\Crystal\\Desktop\\Programs\\dataset_repo\\CDH_Train.csv'\n",
    "#     location=r'C:/Users/Crystal/Desktop/Programs/dataset_repo/0529_/0529_pass_rush.csv'\n",
    "#     location=r'C:/Users/Crystal/Desktop/Programs/dataset_repo/titan/titantic_1.csv'\n",
    "#     location=r'C:\\Users\\Crystal\\Desktop\\Programs\\dataset_repo\\diabetes.csv'\n",
    "    dataset=pd.read_csv(location)\n",
    " \n",
    "    dataset.info()\n",
    "    dataset.head() \n",
    "    dataset.describe()"
   ]
  },
  {
   "cell_type": "markdown",
   "metadata": {},
   "source": [
    "## Drop unwanted features (columns)"
   ]
  },
  {
   "cell_type": "code",
   "execution_count": 99,
   "metadata": {
    "ExecuteTime": {
     "end_time": "2019-07-01T02:03:58.810684Z",
     "start_time": "2019-07-01T02:03:40.361629Z"
    }
   },
   "outputs": [
    {
     "name": "stdout",
     "output_type": "stream",
     "text": [
      "Do you need to drop any columns in the dataset?y\n"
     ]
    }
   ],
   "source": [
    "drop_columns=['Id']\n",
    "if (drop_columns!=[]):\n",
    "    q1=input('Do you need to drop any columns in the dataset?')\n",
    "    if (q1.lower()=='y'):\n",
    "        feature_drop(dataset,drop_columns)\n",
    "    "
   ]
  },
  {
   "cell_type": "markdown",
   "metadata": {},
   "source": [
    "## Selecting inputs and targets"
   ]
  },
  {
   "cell_type": "code",
   "execution_count": 100,
   "metadata": {
    "ExecuteTime": {
     "end_time": "2019-07-01T02:03:58.877688Z",
     "start_time": "2019-07-01T02:03:58.814684Z"
    },
    "scrolled": false
   },
   "outputs": [
    {
     "name": "stdout",
     "output_type": "stream",
     "text": [
      "['Iris-setosa', 'Iris-versicolor', 'Iris-virginica']\n",
      "   SepalLengthCm  SepalWidthCm  PetalLengthCm  PetalWidthCm\n",
      "0            5.1           3.5            1.4           0.2\n",
      "1            4.9           3.0            1.4           0.2\n",
      "2            4.7           3.2            1.3           0.2\n",
      "3            4.6           3.1            1.5           0.2\n",
      "4            5.0           3.6            1.4           0.2\n"
     ]
    }
   ],
   "source": [
    "\n",
    "# target_header=['Species']\n",
    "# input_headers=['Length','Width']\n",
    "\n",
    "# target_header=['Survived']\n",
    "# input_headers=['Parch','Fare']\n",
    "\n",
    "# target_header=['play_type']\n",
    "# input_headers=['score_differential','yardline_100']\n",
    "# input_headers=['score_differential','game_seconds_remaining','yardline_100','qtr']\n",
    "\n",
    "target_header=['Species']\n",
    "input_headers=['SepalLengthCm','SepalWidthCm','PetalLengthCm','PetalWidthCm']\n",
    "\n",
    "# target_header=['Outcome']\n",
    "# # input_headers=['Glucose','BloodPressure']\n",
    "# input_headers=['Pregnancies','Glucose','BloodPressure','SkinThickness','Insulin','BMI','DiabetesPedigreeFunction','Age']\n",
    "\n",
    "target_label=label_encoding(dataset,target_header)\n",
    "\n",
    "classes=target_label\n",
    "test_label=label_encoding(dataset,input_headers)\n",
    "#     print(test_label)\n",
    "\n",
    "dataset=dataset[input_headers+target_header]\n",
    "X,y=split_the_dataset(dataset,input_headers,target_header)\n",
    "#     print(y.values)\n",
    "\n",
    "\n",
    "print(X.head())"
   ]
  },
  {
   "cell_type": "markdown",
   "metadata": {},
   "source": [
    "## Replace zeros with the mean where needed."
   ]
  },
  {
   "cell_type": "code",
   "execution_count": 101,
   "metadata": {
    "ExecuteTime": {
     "end_time": "2019-07-01T02:04:05.511067Z",
     "start_time": "2019-07-01T02:03:58.885688Z"
    }
   },
   "outputs": [
    {
     "name": "stdout",
     "output_type": "stream",
     "text": [
      "Do you need to replace any zeros in the dataset?\n"
     ]
    }
   ],
   "source": [
    "rz=input('Do you need to replace any zeros in the dataset?')\n",
    "if (rz.lower()=='y'):\n",
    "    the_headers=['Age','Glucose','BloodPressure','SkinThickness','Insulin','BMI']\n",
    "    dataset=replacing_zeros(dataset,the_headers)\n",
    "    dataset.head()"
   ]
  },
  {
   "cell_type": "markdown",
   "metadata": {},
   "source": [
    "## Data Visualizations"
   ]
  },
  {
   "cell_type": "markdown",
   "metadata": {},
   "source": [
    "### Data space"
   ]
  },
  {
   "cell_type": "code",
   "execution_count": 102,
   "metadata": {
    "ExecuteTime": {
     "end_time": "2019-07-01T02:04:06.224108Z",
     "start_time": "2019-07-01T02:04:05.515067Z"
    },
    "scrolled": false
   },
   "outputs": [
    {
     "data": {
      "image/png": "[encoded data removed]",
      "text/plain": [
       "<matplotlib.figure.Figure at 0xbfcbdd8>"
      ]
     },
     "metadata": {},
     "output_type": "display_data"
    }
   ],
   "source": [
    "if (X.values.shape[1]==2):\n",
    "    plot_of_data_space(dataset,X.values,y.values,input_headers)\n",
    "else:\n",
    "    pca(dataset,input_headers,target_header)"
   ]
  },
  {
   "cell_type": "markdown",
   "metadata": {},
   "source": [
    "### Feature distributions"
   ]
  },
  {
   "cell_type": "code",
   "execution_count": 103,
   "metadata": {
    "ExecuteTime": {
     "end_time": "2019-07-01T02:04:09.056270Z",
     "start_time": "2019-07-01T02:04:06.230108Z"
    }
   },
   "outputs": [
    {
     "name": "stdout",
     "output_type": "stream",
     "text": [
      "['Iris-setosa', 'Iris-versicolor', 'Iris-virginica']\n",
      "[0, 1, 2]\n"
     ]
    },
    {
     "data": {
      "image/png": "[encoded data removed]",
      "text/plain": [
       "<matplotlib.figure.Figure at 0xe9129e8>"
      ]
     },
     "metadata": {},
     "output_type": "display_data"
    }
   ],
   "source": [
    "feature_distributions(dataset,target_header[0],classes)"
   ]
  },
  {
   "cell_type": "code",
   "execution_count": 104,
   "metadata": {
    "ExecuteTime": {
     "end_time": "2019-07-01T02:04:09.088272Z",
     "start_time": "2019-07-01T02:04:09.061270Z"
    }
   },
   "outputs": [
    {
     "data": {
      "text/html": [
       "<div>\n",
       "<style scoped>\n",
       "    .dataframe tbody tr th:only-of-type {\n",
       "        vertical-align: middle;\n",
       "    }\n",
       "\n",
       "    .dataframe tbody tr th {\n",
       "        vertical-align: top;\n",
       "    }\n",
       "\n",
       "    .dataframe thead th {\n",
       "        text-align: right;\n",
       "    }\n",
       "</style>\n",
       "<table border=\"1\" class=\"dataframe\">\n",
       "  <thead>\n",
       "    <tr style=\"text-align: right;\">\n",
       "      <th></th>\n",
       "      <th>SepalLengthCm</th>\n",
       "      <th>SepalWidthCm</th>\n",
       "      <th>PetalLengthCm</th>\n",
       "      <th>PetalWidthCm</th>\n",
       "    </tr>\n",
       "  </thead>\n",
       "  <tbody>\n",
       "    <tr>\n",
       "      <th>0</th>\n",
       "      <td>5.1</td>\n",
       "      <td>3.5</td>\n",
       "      <td>1.4</td>\n",
       "      <td>0.2</td>\n",
       "    </tr>\n",
       "    <tr>\n",
       "      <th>1</th>\n",
       "      <td>4.9</td>\n",
       "      <td>3.0</td>\n",
       "      <td>1.4</td>\n",
       "      <td>0.2</td>\n",
       "    </tr>\n",
       "    <tr>\n",
       "      <th>2</th>\n",
       "      <td>4.7</td>\n",
       "      <td>3.2</td>\n",
       "      <td>1.3</td>\n",
       "      <td>0.2</td>\n",
       "    </tr>\n",
       "    <tr>\n",
       "      <th>3</th>\n",
       "      <td>4.6</td>\n",
       "      <td>3.1</td>\n",
       "      <td>1.5</td>\n",
       "      <td>0.2</td>\n",
       "    </tr>\n",
       "    <tr>\n",
       "      <th>4</th>\n",
       "      <td>5.0</td>\n",
       "      <td>3.6</td>\n",
       "      <td>1.4</td>\n",
       "      <td>0.2</td>\n",
       "    </tr>\n",
       "  </tbody>\n",
       "</table>\n",
       "</div>"
      ],
      "text/plain": [
       "   SepalLengthCm  SepalWidthCm  PetalLengthCm  PetalWidthCm\n",
       "0            5.1           3.5            1.4           0.2\n",
       "1            4.9           3.0            1.4           0.2\n",
       "2            4.7           3.2            1.3           0.2\n",
       "3            4.6           3.1            1.5           0.2\n",
       "4            5.0           3.6            1.4           0.2"
      ]
     },
     "execution_count": 104,
     "metadata": {},
     "output_type": "execute_result"
    }
   ],
   "source": [
    "    X.head()"
   ]
  },
  {
   "cell_type": "markdown",
   "metadata": {},
   "source": [
    "## Correlation Matrix"
   ]
  },
  {
   "cell_type": "code",
   "execution_count": 105,
   "metadata": {
    "ExecuteTime": {
     "end_time": "2019-07-01T02:04:09.650304Z",
     "start_time": "2019-07-01T02:04:09.095272Z"
    },
    "scrolled": false
   },
   "outputs": [
    {
     "data": {
      "image/png": "[encoded data removed]",
      "text/plain": [
       "<matplotlib.figure.Figure at 0xe96da58>"
      ]
     },
     "metadata": {},
     "output_type": "display_data"
    },
    {
     "name": "stdout",
     "output_type": "stream",
     "text": [
      "Correlations with respect to target:\n",
      "Species          1.000000\n",
      "PetalWidthCm     0.956464\n",
      "PetalLengthCm    0.949043\n",
      "SepalLengthCm    0.782561\n",
      "SepalWidthCm     0.419446\n",
      "Name: Species, dtype: float64\n",
      "\n",
      "Recommended features to drop due to high correlation (greater than 0.7) to target variable:\n",
      "['Species', 'PetalWidthCm', 'PetalLengthCm', 'SepalLengthCm']\n"
     ]
    },
    {
     "data": {
      "text/html": [
       "<div>\n",
       "<style scoped>\n",
       "    .dataframe tbody tr th:only-of-type {\n",
       "        vertical-align: middle;\n",
       "    }\n",
       "\n",
       "    .dataframe tbody tr th {\n",
       "        vertical-align: top;\n",
       "    }\n",
       "\n",
       "    .dataframe thead th {\n",
       "        text-align: right;\n",
       "    }\n",
       "</style>\n",
       "<table border=\"1\" class=\"dataframe\">\n",
       "  <thead>\n",
       "    <tr style=\"text-align: right;\">\n",
       "      <th></th>\n",
       "      <th>SepalLengthCm</th>\n",
       "      <th>SepalWidthCm</th>\n",
       "      <th>PetalLengthCm</th>\n",
       "      <th>PetalWidthCm</th>\n",
       "      <th>Species</th>\n",
       "    </tr>\n",
       "  </thead>\n",
       "  <tbody>\n",
       "    <tr>\n",
       "      <th>SepalLengthCm</th>\n",
       "      <td>1.000000</td>\n",
       "      <td>0.109369</td>\n",
       "      <td>0.871754</td>\n",
       "      <td>0.817954</td>\n",
       "      <td>0.782561</td>\n",
       "    </tr>\n",
       "    <tr>\n",
       "      <th>SepalWidthCm</th>\n",
       "      <td>0.109369</td>\n",
       "      <td>1.000000</td>\n",
       "      <td>0.420516</td>\n",
       "      <td>0.356544</td>\n",
       "      <td>0.419446</td>\n",
       "    </tr>\n",
       "    <tr>\n",
       "      <th>PetalLengthCm</th>\n",
       "      <td>0.871754</td>\n",
       "      <td>0.420516</td>\n",
       "      <td>1.000000</td>\n",
       "      <td>0.962757</td>\n",
       "      <td>0.949043</td>\n",
       "    </tr>\n",
       "    <tr>\n",
       "      <th>PetalWidthCm</th>\n",
       "      <td>0.817954</td>\n",
       "      <td>0.356544</td>\n",
       "      <td>0.962757</td>\n",
       "      <td>1.000000</td>\n",
       "      <td>0.956464</td>\n",
       "    </tr>\n",
       "    <tr>\n",
       "      <th>Species</th>\n",
       "      <td>0.782561</td>\n",
       "      <td>0.419446</td>\n",
       "      <td>0.949043</td>\n",
       "      <td>0.956464</td>\n",
       "      <td>1.000000</td>\n",
       "    </tr>\n",
       "  </tbody>\n",
       "</table>\n",
       "</div>"
      ],
      "text/plain": [
       "               SepalLengthCm  SepalWidthCm  PetalLengthCm  PetalWidthCm  \\\n",
       "SepalLengthCm       1.000000      0.109369       0.871754      0.817954   \n",
       "SepalWidthCm        0.109369      1.000000       0.420516      0.356544   \n",
       "PetalLengthCm       0.871754      0.420516       1.000000      0.962757   \n",
       "PetalWidthCm        0.817954      0.356544       0.962757      1.000000   \n",
       "Species             0.782561      0.419446       0.949043      0.956464   \n",
       "\n",
       "                Species  \n",
       "SepalLengthCm  0.782561  \n",
       "SepalWidthCm   0.419446  \n",
       "PetalLengthCm  0.949043  \n",
       "PetalWidthCm   0.956464  \n",
       "Species        1.000000  "
      ]
     },
     "execution_count": 105,
     "metadata": {},
     "output_type": "execute_result"
    }
   ],
   "source": [
    "correlation_matrix(dataset,input_headers,target_header)"
   ]
  },
  {
   "cell_type": "code",
   "execution_count": null,
   "metadata": {
    "deletable": false,
    "editable": false,
    "run_control": {
     "frozen": true
    }
   },
   "outputs": [],
   "source": [
    "corr_matrix "
   ]
  },
  {
   "cell_type": "code",
   "execution_count": 106,
   "metadata": {
    "ExecuteTime": {
     "end_time": "2019-07-01T02:04:09.670305Z",
     "start_time": "2019-07-01T02:04:09.654304Z"
    }
   },
   "outputs": [
    {
     "data": {
      "text/html": [
       "<div>\n",
       "<style scoped>\n",
       "    .dataframe tbody tr th:only-of-type {\n",
       "        vertical-align: middle;\n",
       "    }\n",
       "\n",
       "    .dataframe tbody tr th {\n",
       "        vertical-align: top;\n",
       "    }\n",
       "\n",
       "    .dataframe thead th {\n",
       "        text-align: right;\n",
       "    }\n",
       "</style>\n",
       "<table border=\"1\" class=\"dataframe\">\n",
       "  <thead>\n",
       "    <tr style=\"text-align: right;\">\n",
       "      <th></th>\n",
       "      <th>Species</th>\n",
       "    </tr>\n",
       "  </thead>\n",
       "  <tbody>\n",
       "    <tr>\n",
       "      <th>0</th>\n",
       "      <td>0</td>\n",
       "    </tr>\n",
       "    <tr>\n",
       "      <th>1</th>\n",
       "      <td>0</td>\n",
       "    </tr>\n",
       "    <tr>\n",
       "      <th>2</th>\n",
       "      <td>0</td>\n",
       "    </tr>\n",
       "    <tr>\n",
       "      <th>3</th>\n",
       "      <td>0</td>\n",
       "    </tr>\n",
       "    <tr>\n",
       "      <th>4</th>\n",
       "      <td>0</td>\n",
       "    </tr>\n",
       "  </tbody>\n",
       "</table>\n",
       "</div>"
      ],
      "text/plain": [
       "   Species\n",
       "0        0\n",
       "1        0\n",
       "2        0\n",
       "3        0\n",
       "4        0"
      ]
     },
     "execution_count": 106,
     "metadata": {},
     "output_type": "execute_result"
    }
   ],
   "source": [
    "y.head()"
   ]
  },
  {
   "cell_type": "markdown",
   "metadata": {},
   "source": [
    "## Splitting the Train-Test data"
   ]
  },
  {
   "cell_type": "code",
   "execution_count": 107,
   "metadata": {
    "ExecuteTime": {
     "end_time": "2019-07-01T02:04:09.686306Z",
     "start_time": "2019-07-01T02:04:09.675305Z"
    },
    "collapsed": true
   },
   "outputs": [],
   "source": [
    "test_data_size=.20\n",
    "Xtrain,Xtest,ytrain,ytest=train_test_split(X,y,test_size=.20,random_state=42)"
   ]
  },
  {
   "cell_type": "code",
   "execution_count": 108,
   "metadata": {
    "ExecuteTime": {
     "end_time": "2019-07-01T02:04:09.703307Z",
     "start_time": "2019-07-01T02:04:09.691306Z"
    }
   },
   "outputs": [
    {
     "name": "stdout",
     "output_type": "stream",
     "text": [
      "Xtrain sample count: 120\n",
      "ytrain sample count: 120\n",
      "Xtest sample count: 30\n",
      "ytest sample count: 30\n"
     ]
    }
   ],
   "source": [
    "print(f'Xtrain sample count: {Xtrain.shape[0]}')\n",
    "print(f'ytrain sample count: {ytrain.shape[0]}')\n",
    "print(f'Xtest sample count: {Xtest.shape[0]}')\n",
    "print(f'ytest sample count: {ytest.shape[0]}')"
   ]
  },
  {
   "cell_type": "markdown",
   "metadata": {},
   "source": [
    "## Scale the data"
   ]
  },
  {
   "cell_type": "code",
   "execution_count": 109,
   "metadata": {
    "ExecuteTime": {
     "end_time": "2019-07-01T02:04:09.720308Z",
     "start_time": "2019-07-01T02:04:09.707307Z"
    }
   },
   "outputs": [
    {
     "name": "stdout",
     "output_type": "stream",
     "text": [
      "StandardScaler(copy=True, with_mean=True, with_std=True)\n",
      "[[-1.47393679  1.22037928 -1.5639872  -1.30948358]\n",
      " [-0.13307079  3.02001693 -1.27728011 -1.04292204]\n",
      " [ 1.08589829  0.09560575  0.38562104  0.28988568]\n",
      " [-1.23014297  0.77046987 -1.21993869 -1.30948358]\n",
      " [-1.7177306   0.32056046 -1.39196294 -1.30948358]]\n"
     ]
    }
   ],
   "source": [
    "#Scale the data    \n",
    "Xtrain, Xtest=feature_scaling(Xtrain,Xtest)\n"
   ]
  },
  {
   "cell_type": "code",
   "execution_count": 110,
   "metadata": {
    "ExecuteTime": {
     "end_time": "2019-07-01T02:04:09.740309Z",
     "start_time": "2019-07-01T02:04:09.724308Z"
    },
    "scrolled": false
   },
   "outputs": [
    {
     "data": {
      "text/html": [
       "<div>\n",
       "<style scoped>\n",
       "    .dataframe tbody tr th:only-of-type {\n",
       "        vertical-align: middle;\n",
       "    }\n",
       "\n",
       "    .dataframe tbody tr th {\n",
       "        vertical-align: top;\n",
       "    }\n",
       "\n",
       "    .dataframe thead th {\n",
       "        text-align: right;\n",
       "    }\n",
       "</style>\n",
       "<table border=\"1\" class=\"dataframe\">\n",
       "  <thead>\n",
       "    <tr style=\"text-align: right;\">\n",
       "      <th></th>\n",
       "      <th>Species</th>\n",
       "    </tr>\n",
       "  </thead>\n",
       "  <tbody>\n",
       "    <tr>\n",
       "      <th>73</th>\n",
       "      <td>1</td>\n",
       "    </tr>\n",
       "    <tr>\n",
       "      <th>18</th>\n",
       "      <td>0</td>\n",
       "    </tr>\n",
       "    <tr>\n",
       "      <th>118</th>\n",
       "      <td>2</td>\n",
       "    </tr>\n",
       "    <tr>\n",
       "      <th>78</th>\n",
       "      <td>1</td>\n",
       "    </tr>\n",
       "    <tr>\n",
       "      <th>76</th>\n",
       "      <td>1</td>\n",
       "    </tr>\n",
       "  </tbody>\n",
       "</table>\n",
       "</div>"
      ],
      "text/plain": [
       "     Species\n",
       "73         1\n",
       "18         0\n",
       "118        2\n",
       "78         1\n",
       "76         1"
      ]
     },
     "execution_count": 110,
     "metadata": {},
     "output_type": "execute_result"
    }
   ],
   "source": [
    "ytest.head()"
   ]
  },
  {
   "cell_type": "markdown",
   "metadata": {},
   "source": [
    "## Random Forest Model"
   ]
  },
  {
   "cell_type": "code",
   "execution_count": 111,
   "metadata": {
    "ExecuteTime": {
     "end_time": "2019-07-01T02:04:09.753310Z",
     "start_time": "2019-07-01T02:04:09.744309Z"
    },
    "collapsed": true
   },
   "outputs": [],
   "source": [
    "# model = RandomForestClassifier(n_estimators=100, criterion='gini', max_depth=None, \n",
    "#                                min_samples_split=2, min_samples_leaf=1, \n",
    "#                                min_weight_fraction_leaf=0.0, max_features='auto', max_leaf_nodes=None, \n",
    "#                                min_impurity_decrease=0.0, min_impurity_split=None, \n",
    "#                                bootstrap=True, oob_score=False, n_jobs=None, random_state=0, \n",
    "#                                verbose=0, warm_start=False, class_weight=None)\n",
    "\n",
    "\n",
    "\n"
   ]
  },
  {
   "cell_type": "code",
   "execution_count": 112,
   "metadata": {
    "ExecuteTime": {
     "end_time": "2019-07-01T02:04:09.768311Z",
     "start_time": "2019-07-01T02:04:09.758310Z"
    },
    "collapsed": true
   },
   "outputs": [],
   "source": [
    "model=RandomForestClassifier(n_estimators=100, criterion='gini',max_depth=None,\n",
    "                             random_state=42)"
   ]
  },
  {
   "cell_type": "markdown",
   "metadata": {},
   "source": [
    "### Fit model to training data"
   ]
  },
  {
   "cell_type": "code",
   "execution_count": 113,
   "metadata": {
    "ExecuteTime": {
     "end_time": "2019-07-01T02:04:10.064328Z",
     "start_time": "2019-07-01T02:04:09.772311Z"
    }
   },
   "outputs": [
    {
     "data": {
      "text/plain": [
       "RandomForestClassifier(bootstrap=True, class_weight=None, criterion='gini',\n",
       "            max_depth=None, max_features='auto', max_leaf_nodes=None,\n",
       "            min_impurity_decrease=0.0, min_impurity_split=None,\n",
       "            min_samples_leaf=1, min_samples_split=2,\n",
       "            min_weight_fraction_leaf=0.0, n_estimators=100, n_jobs=1,\n",
       "            oob_score=False, random_state=42, verbose=0, warm_start=False)"
      ]
     },
     "execution_count": 113,
     "metadata": {},
     "output_type": "execute_result"
    }
   ],
   "source": [
    "ytrain=ytrain.values.reshape(ytrain.size,)\n",
    "model.fit(Xtrain,ytrain)"
   ]
  },
  {
   "cell_type": "markdown",
   "metadata": {},
   "source": [
    "### Model prediction on test data"
   ]
  },
  {
   "cell_type": "code",
   "execution_count": 114,
   "metadata": {
    "ExecuteTime": {
     "end_time": "2019-07-01T02:04:10.092329Z",
     "start_time": "2019-07-01T02:04:10.068328Z"
    }
   },
   "outputs": [
    {
     "data": {
      "text/plain": [
       "array([1, 0, 2, 1, 1, 0, 1, 2, 1, 1, 2, 0, 0, 0, 0, 1, 2, 1, 1, 2, 0, 1,\n",
       "       0, 2, 2, 2, 2, 2, 0, 0], dtype=int64)"
      ]
     },
     "execution_count": 114,
     "metadata": {},
     "output_type": "execute_result"
    }
   ],
   "source": [
    "y_model=model.predict(Xtest)\n",
    "y_model"
   ]
  },
  {
   "cell_type": "code",
   "execution_count": 115,
   "metadata": {
    "ExecuteTime": {
     "end_time": "2019-07-01T02:04:10.132332Z",
     "start_time": "2019-07-01T02:04:10.098330Z"
    }
   },
   "outputs": [
    {
     "data": {
      "text/plain": [
       "array([[0.  , 1.  , 0.  ],\n",
       "       [1.  , 0.  , 0.  ],\n",
       "       [0.  , 0.04, 0.96],\n",
       "       [0.  , 1.  , 0.  ],\n",
       "       [0.  , 0.99, 0.01]])"
      ]
     },
     "execution_count": 115,
     "metadata": {},
     "output_type": "execute_result"
    }
   ],
   "source": [
    "y_model_prob=model.predict_proba(Xtest)\n",
    "y_model_prob[0:5]"
   ]
  },
  {
   "cell_type": "markdown",
   "metadata": {},
   "source": [
    "### Model score & performance"
   ]
  },
  {
   "cell_type": "code",
   "execution_count": 116,
   "metadata": {
    "ExecuteTime": {
     "end_time": "2019-07-01T02:04:10.166333Z",
     "start_time": "2019-07-01T02:04:10.137332Z"
    }
   },
   "outputs": [
    {
     "name": "stdout",
     "output_type": "stream",
     "text": [
      "Model Accuracy:0.97\n",
      "\n",
      "Iris-setosa Recall:1.0\n",
      "\n",
      "Iris-setosa Precision:1.0\n",
      "\n",
      "Iris-versicolor Recall:1.0\n",
      "\n",
      "Iris-versicolor Precision:0.9\n",
      "\n",
      "Iris-virginica Recall:0.9090909090909091\n",
      "\n",
      "Iris-virginica Precision:1.0\n",
      "\n"
     ]
    }
   ],
   "source": [
    "accur=accuracy_score(ytest,y_model)\n",
    "recall=recall_score(ytest, y_model,average=None)\n",
    "precision=precision_score(ytest, y_model,average=None)\n",
    "print(f'Model Accuracy:{accur:.2f}\\n')\n",
    "\n",
    "for i,k in enumerate (classes):\n",
    "    print(f'{k} Recall:{recall[i]}\\n')\n",
    "    print(f'{k} Precision:{precision[i]}\\n')"
   ]
  },
  {
   "cell_type": "markdown",
   "metadata": {},
   "source": [
    "#### Confusion Matrix"
   ]
  },
  {
   "cell_type": "code",
   "execution_count": 117,
   "metadata": {
    "ExecuteTime": {
     "end_time": "2019-07-01T02:04:10.178334Z",
     "start_time": "2019-07-01T02:04:10.171334Z"
    },
    "collapsed": true
   },
   "outputs": [],
   "source": [
    "cm=confusion_matrix(ytest, y_model)"
   ]
  },
  {
   "cell_type": "code",
   "execution_count": 118,
   "metadata": {
    "ExecuteTime": {
     "end_time": "2019-07-01T02:04:10.196335Z",
     "start_time": "2019-07-01T02:04:10.182334Z"
    }
   },
   "outputs": [
    {
     "data": {
      "text/plain": [
       "array([[10,  0,  0],\n",
       "       [ 0,  9,  0],\n",
       "       [ 0,  1, 10]], dtype=int64)"
      ]
     },
     "execution_count": 118,
     "metadata": {},
     "output_type": "execute_result"
    }
   ],
   "source": [
    "cm"
   ]
  },
  {
   "cell_type": "code",
   "execution_count": 119,
   "metadata": {
    "ExecuteTime": {
     "end_time": "2019-07-01T02:04:10.574357Z",
     "start_time": "2019-07-01T02:04:10.200335Z"
    },
    "scrolled": false
   },
   "outputs": [
    {
     "data": {
      "image/png": "[encoded data removed]",
      "text/plain": [
       "<matplotlib.figure.Figure at 0xe7ef390>"
      ]
     },
     "metadata": {},
     "output_type": "display_data"
    }
   ],
   "source": [
    "fig, ax = plt.subplots()\n",
    "cmap=plt.cm.Spectral\n",
    "im = ax.imshow(cm, interpolation='nearest', cmap=cmap)\n",
    "ax.figure.colorbar(im, ax=ax)\n",
    "\n",
    "ax.set(xticks=np.arange(cm.shape[1]),\n",
    "       yticks=np.arange(cm.shape[0]),\n",
    "       xticklabels=classes,\n",
    "       yticklabels=classes,\n",
    "       title=\"confusion\",\n",
    "       ylabel='True label',\n",
    "       xlabel='Predicted label')\n",
    "\n",
    "\n",
    "\n",
    "# Loop over data dimensions and create text annotations.\n",
    "normalize=False\n",
    "fmt = '.2f' if normalize else 'd'\n",
    "thresh = cm.max() / 2.\n",
    "for i in range(cm.shape[0]):\n",
    "    for j in range(cm.shape[1]):\n",
    "        ax.text(j, i, format(cm[i, j], fmt),\n",
    "                ha=\"center\", va=\"center\",\n",
    "                color=\"white\" if cm[i, j] > thresh else \"black\")\n",
    "fig.tight_layout()\n",
    "\n",
    "\n",
    "plt.grid(b=None)\n",
    "plt.show()"
   ]
  },
  {
   "cell_type": "code",
   "execution_count": 120,
   "metadata": {
    "ExecuteTime": {
     "end_time": "2019-07-01T02:04:10.964379Z",
     "start_time": "2019-07-01T02:04:10.579357Z"
    }
   },
   "outputs": [
    {
     "data": {
      "image/png": "[encoded data removed]",
      "text/plain": [
       "<matplotlib.figure.Figure at 0xcd12cf8>"
      ]
     },
     "metadata": {},
     "output_type": "display_data"
    }
   ],
   "source": [
    "cm=pd.DataFrame(data=cm,columns=classes,index=classes)\n",
    "sns.heatmap(cm,square=True,annot=True,cbar=True)\n",
    "plt.xlabel('predicted value')\n",
    "plt.ylabel('true value')\n",
    "plt.show()"
   ]
  },
  {
   "cell_type": "markdown",
   "metadata": {},
   "source": [
    "#### Cross Validation"
   ]
  },
  {
   "cell_type": "code",
   "execution_count": 144,
   "metadata": {
    "ExecuteTime": {
     "end_time": "2019-07-01T02:06:35.565158Z",
     "start_time": "2019-07-01T02:06:33.966067Z"
    },
    "scrolled": false
   },
   "outputs": [
    {
     "name": "stdout",
     "output_type": "stream",
     "text": [
      "Cross Validation Scores:\n",
      "[0.93333333 0.9        0.9        0.93333333 0.93333333]\n",
      "\n",
      "Mean Score:92.00%\n",
      "Standard Deviation:0.02\n"
     ]
    },
    {
     "name": "stderr",
     "output_type": "stream",
     "text": [
      "C:\\Users\\Public\\Programming\\lib\\site-packages\\seaborn\\categorical.py:462: FutureWarning: remove_na is deprecated and is a private function. Do not use.\n",
      "  box_data = remove_na(group_data)\n"
     ]
    },
    {
     "data": {
      "image/png": "[encoded data removed]",
      "text/plain": [
       "<matplotlib.figure.Figure at 0xd9f67f0>"
      ]
     },
     "metadata": {},
     "output_type": "display_data"
    }
   ],
   "source": [
    "y=y.values.reshape(y.size,)   # reshape y to a 1-d array\n",
    "k_fold=5\n",
    "score=cross_val_score(model,X,y,cv=k_fold)\n",
    "score.mean();\n",
    "score.std();\n",
    "\n",
    "print(f'Cross Validation Scores:\\n{score}\\n')\n",
    "print(f'Mean Score:{score.mean()*100:.2f}%\\nStandard Deviation:{score.std():.2f}')\n",
    "\n",
    "sns.boxplot(x=score,orient='v')\n",
    "plt.title(f'{k_fold} Fold Cross Validation Results')\n",
    "plt.ylabel('Model Accuracy')\n",
    "plt.show()"
   ]
  },
  {
   "cell_type": "markdown",
   "metadata": {},
   "source": [
    "## Model with Principle Components as Input Variables (PCA1 &PCA2)"
   ]
  },
  {
   "cell_type": "code",
   "execution_count": 122,
   "metadata": {
    "ExecuteTime": {
     "end_time": "2019-07-01T02:04:12.777483Z",
     "start_time": "2019-07-01T02:04:12.752481Z"
    }
   },
   "outputs": [
    {
     "data": {
      "text/html": [
       "<div>\n",
       "<style scoped>\n",
       "    .dataframe tbody tr th:only-of-type {\n",
       "        vertical-align: middle;\n",
       "    }\n",
       "\n",
       "    .dataframe tbody tr th {\n",
       "        vertical-align: top;\n",
       "    }\n",
       "\n",
       "    .dataframe thead th {\n",
       "        text-align: right;\n",
       "    }\n",
       "</style>\n",
       "<table border=\"1\" class=\"dataframe\">\n",
       "  <thead>\n",
       "    <tr style=\"text-align: right;\">\n",
       "      <th></th>\n",
       "      <th>SepalLengthCm</th>\n",
       "      <th>SepalWidthCm</th>\n",
       "      <th>PetalLengthCm</th>\n",
       "      <th>PetalWidthCm</th>\n",
       "      <th>Species</th>\n",
       "      <th>PCA1</th>\n",
       "      <th>PCA2</th>\n",
       "    </tr>\n",
       "  </thead>\n",
       "  <tbody>\n",
       "    <tr>\n",
       "      <th>0</th>\n",
       "      <td>5.1</td>\n",
       "      <td>3.5</td>\n",
       "      <td>1.4</td>\n",
       "      <td>0.2</td>\n",
       "      <td>0</td>\n",
       "      <td>-2.684207</td>\n",
       "      <td>0.326607</td>\n",
       "    </tr>\n",
       "    <tr>\n",
       "      <th>1</th>\n",
       "      <td>4.9</td>\n",
       "      <td>3.0</td>\n",
       "      <td>1.4</td>\n",
       "      <td>0.2</td>\n",
       "      <td>0</td>\n",
       "      <td>-2.715391</td>\n",
       "      <td>-0.169557</td>\n",
       "    </tr>\n",
       "    <tr>\n",
       "      <th>2</th>\n",
       "      <td>4.7</td>\n",
       "      <td>3.2</td>\n",
       "      <td>1.3</td>\n",
       "      <td>0.2</td>\n",
       "      <td>0</td>\n",
       "      <td>-2.889820</td>\n",
       "      <td>-0.137346</td>\n",
       "    </tr>\n",
       "    <tr>\n",
       "      <th>3</th>\n",
       "      <td>4.6</td>\n",
       "      <td>3.1</td>\n",
       "      <td>1.5</td>\n",
       "      <td>0.2</td>\n",
       "      <td>0</td>\n",
       "      <td>-2.746437</td>\n",
       "      <td>-0.311124</td>\n",
       "    </tr>\n",
       "    <tr>\n",
       "      <th>4</th>\n",
       "      <td>5.0</td>\n",
       "      <td>3.6</td>\n",
       "      <td>1.4</td>\n",
       "      <td>0.2</td>\n",
       "      <td>0</td>\n",
       "      <td>-2.728593</td>\n",
       "      <td>0.333925</td>\n",
       "    </tr>\n",
       "  </tbody>\n",
       "</table>\n",
       "</div>"
      ],
      "text/plain": [
       "   SepalLengthCm  SepalWidthCm  PetalLengthCm  PetalWidthCm  Species  \\\n",
       "0            5.1           3.5            1.4           0.2        0   \n",
       "1            4.9           3.0            1.4           0.2        0   \n",
       "2            4.7           3.2            1.3           0.2        0   \n",
       "3            4.6           3.1            1.5           0.2        0   \n",
       "4            5.0           3.6            1.4           0.2        0   \n",
       "\n",
       "       PCA1      PCA2  \n",
       "0 -2.684207  0.326607  \n",
       "1 -2.715391 -0.169557  \n",
       "2 -2.889820 -0.137346  \n",
       "3 -2.746437 -0.311124  \n",
       "4 -2.728593  0.333925  "
      ]
     },
     "execution_count": 122,
     "metadata": {},
     "output_type": "execute_result"
    }
   ],
   "source": [
    "dataset.head()"
   ]
  },
  {
   "cell_type": "code",
   "execution_count": 123,
   "metadata": {
    "ExecuteTime": {
     "end_time": "2019-07-01T02:04:12.839486Z",
     "start_time": "2019-07-01T02:04:12.790484Z"
    },
    "collapsed": true
   },
   "outputs": [],
   "source": [
    "target_header=['Species']\n",
    "input_headers=['PCA1','PCA2']\n",
    "\n",
    "target_label=label_encoding(dataset,target_header)\n",
    "\n",
    "# classes=target_label\n",
    "test_label=label_encoding(dataset,input_headers)\n",
    "#     print(test_label)\n",
    "\n",
    "dataset=dataset[input_headers+target_header]\n",
    "X,y=split_the_dataset(dataset,input_headers,target_header)\n",
    "#     print(y.values)"
   ]
  },
  {
   "cell_type": "code",
   "execution_count": 124,
   "metadata": {
    "ExecuteTime": {
     "end_time": "2019-07-01T02:04:12.872488Z",
     "start_time": "2019-07-01T02:04:12.847487Z"
    }
   },
   "outputs": [
    {
     "data": {
      "text/html": [
       "<div>\n",
       "<style scoped>\n",
       "    .dataframe tbody tr th:only-of-type {\n",
       "        vertical-align: middle;\n",
       "    }\n",
       "\n",
       "    .dataframe tbody tr th {\n",
       "        vertical-align: top;\n",
       "    }\n",
       "\n",
       "    .dataframe thead th {\n",
       "        text-align: right;\n",
       "    }\n",
       "</style>\n",
       "<table border=\"1\" class=\"dataframe\">\n",
       "  <thead>\n",
       "    <tr style=\"text-align: right;\">\n",
       "      <th></th>\n",
       "      <th>PCA1</th>\n",
       "      <th>PCA2</th>\n",
       "    </tr>\n",
       "  </thead>\n",
       "  <tbody>\n",
       "    <tr>\n",
       "      <th>0</th>\n",
       "      <td>-2.684207</td>\n",
       "      <td>0.326607</td>\n",
       "    </tr>\n",
       "    <tr>\n",
       "      <th>1</th>\n",
       "      <td>-2.715391</td>\n",
       "      <td>-0.169557</td>\n",
       "    </tr>\n",
       "    <tr>\n",
       "      <th>2</th>\n",
       "      <td>-2.889820</td>\n",
       "      <td>-0.137346</td>\n",
       "    </tr>\n",
       "    <tr>\n",
       "      <th>3</th>\n",
       "      <td>-2.746437</td>\n",
       "      <td>-0.311124</td>\n",
       "    </tr>\n",
       "    <tr>\n",
       "      <th>4</th>\n",
       "      <td>-2.728593</td>\n",
       "      <td>0.333925</td>\n",
       "    </tr>\n",
       "  </tbody>\n",
       "</table>\n",
       "</div>"
      ],
      "text/plain": [
       "       PCA1      PCA2\n",
       "0 -2.684207  0.326607\n",
       "1 -2.715391 -0.169557\n",
       "2 -2.889820 -0.137346\n",
       "3 -2.746437 -0.311124\n",
       "4 -2.728593  0.333925"
      ]
     },
     "execution_count": 124,
     "metadata": {},
     "output_type": "execute_result"
    }
   ],
   "source": [
    "X.head()"
   ]
  },
  {
   "cell_type": "code",
   "execution_count": 125,
   "metadata": {
    "ExecuteTime": {
     "end_time": "2019-07-01T02:04:13.434520Z",
     "start_time": "2019-07-01T02:04:12.881489Z"
    }
   },
   "outputs": [
    {
     "data": {
      "image/png": "[encoded data removed]",
      "text/plain": [
       "<matplotlib.figure.Figure at 0xe072be0>"
      ]
     },
     "metadata": {},
     "output_type": "display_data"
    },
    {
     "name": "stdout",
     "output_type": "stream",
     "text": [
      "Correlations with respect to target:\n",
      "Species    1.000000\n",
      "PCA1       0.946535\n",
      "PCA2       0.114026\n",
      "Name: Species, dtype: float64\n",
      "\n",
      "Recommended features to drop due to high correlation (greater than 0.7) to target variable:\n",
      "['Species', 'PCA1']\n"
     ]
    },
    {
     "data": {
      "text/html": [
       "<div>\n",
       "<style scoped>\n",
       "    .dataframe tbody tr th:only-of-type {\n",
       "        vertical-align: middle;\n",
       "    }\n",
       "\n",
       "    .dataframe tbody tr th {\n",
       "        vertical-align: top;\n",
       "    }\n",
       "\n",
       "    .dataframe thead th {\n",
       "        text-align: right;\n",
       "    }\n",
       "</style>\n",
       "<table border=\"1\" class=\"dataframe\">\n",
       "  <thead>\n",
       "    <tr style=\"text-align: right;\">\n",
       "      <th></th>\n",
       "      <th>PCA1</th>\n",
       "      <th>PCA2</th>\n",
       "      <th>Species</th>\n",
       "    </tr>\n",
       "  </thead>\n",
       "  <tbody>\n",
       "    <tr>\n",
       "      <th>PCA1</th>\n",
       "      <td>1.000000e+00</td>\n",
       "      <td>3.391738e-16</td>\n",
       "      <td>0.946535</td>\n",
       "    </tr>\n",
       "    <tr>\n",
       "      <th>PCA2</th>\n",
       "      <td>3.391738e-16</td>\n",
       "      <td>1.000000e+00</td>\n",
       "      <td>0.114026</td>\n",
       "    </tr>\n",
       "    <tr>\n",
       "      <th>Species</th>\n",
       "      <td>9.465354e-01</td>\n",
       "      <td>1.140260e-01</td>\n",
       "      <td>1.000000</td>\n",
       "    </tr>\n",
       "  </tbody>\n",
       "</table>\n",
       "</div>"
      ],
      "text/plain": [
       "                 PCA1          PCA2   Species\n",
       "PCA1     1.000000e+00  3.391738e-16  0.946535\n",
       "PCA2     3.391738e-16  1.000000e+00  0.114026\n",
       "Species  9.465354e-01  1.140260e-01  1.000000"
      ]
     },
     "execution_count": 125,
     "metadata": {},
     "output_type": "execute_result"
    }
   ],
   "source": [
    "correlation_matrix(dataset,input_headers,target_header)"
   ]
  },
  {
   "cell_type": "code",
   "execution_count": 126,
   "metadata": {
    "ExecuteTime": {
     "end_time": "2019-07-01T02:04:13.453521Z",
     "start_time": "2019-07-01T02:04:13.440521Z"
    },
    "collapsed": true
   },
   "outputs": [],
   "source": [
    "test_data_size=.20\n",
    "Xtrain,Xtest,ytrain,ytest=train_test_split(X,y,test_size=.20)"
   ]
  },
  {
   "cell_type": "code",
   "execution_count": 127,
   "metadata": {
    "ExecuteTime": {
     "end_time": "2019-07-01T02:04:13.476523Z",
     "start_time": "2019-07-01T02:04:13.461522Z"
    }
   },
   "outputs": [
    {
     "name": "stdout",
     "output_type": "stream",
     "text": [
      "StandardScaler(copy=True, with_mean=True, with_std=True)\n",
      "[[ 0.71283832 -1.18055298]\n",
      " [-1.14899433  0.35710728]\n",
      " [ 1.5991426   2.70018851]\n",
      " [-1.19891007 -0.31109111]\n",
      " [-1.25980673 -0.41286373]]\n"
     ]
    }
   ],
   "source": [
    "#Scale the data    \n",
    "Xtrain, Xtest=feature_scaling(Xtrain,Xtest)"
   ]
  },
  {
   "cell_type": "code",
   "execution_count": 128,
   "metadata": {
    "ExecuteTime": {
     "end_time": "2019-07-01T02:04:13.490524Z",
     "start_time": "2019-07-01T02:04:13.481523Z"
    },
    "collapsed": true
   },
   "outputs": [],
   "source": [
    "model=RandomForestClassifier(n_estimators=100, criterion='gini',max_depth=None,\n",
    "                             random_state=0)"
   ]
  },
  {
   "cell_type": "code",
   "execution_count": 129,
   "metadata": {
    "ExecuteTime": {
     "end_time": "2019-07-01T02:04:13.840544Z",
     "start_time": "2019-07-01T02:04:13.495524Z"
    }
   },
   "outputs": [
    {
     "data": {
      "text/plain": [
       "RandomForestClassifier(bootstrap=True, class_weight=None, criterion='gini',\n",
       "            max_depth=None, max_features='auto', max_leaf_nodes=None,\n",
       "            min_impurity_decrease=0.0, min_impurity_split=None,\n",
       "            min_samples_leaf=1, min_samples_split=2,\n",
       "            min_weight_fraction_leaf=0.0, n_estimators=100, n_jobs=1,\n",
       "            oob_score=False, random_state=0, verbose=0, warm_start=False)"
      ]
     },
     "execution_count": 129,
     "metadata": {},
     "output_type": "execute_result"
    }
   ],
   "source": [
    "ytrain=ytrain.values.reshape(ytrain.size,)\n",
    "model.fit(Xtrain,ytrain)"
   ]
  },
  {
   "cell_type": "code",
   "execution_count": 130,
   "metadata": {
    "ExecuteTime": {
     "end_time": "2019-07-01T02:04:13.873546Z",
     "start_time": "2019-07-01T02:04:13.846544Z"
    }
   },
   "outputs": [
    {
     "data": {
      "text/plain": [
       "array([1, 0, 0, 1, 0, 2, 0, 2, 1, 1, 1, 2, 1, 1, 2, 0, 0, 2, 1, 1, 2, 1,\n",
       "       0, 0, 2, 1, 1, 0, 1, 2], dtype=int64)"
      ]
     },
     "execution_count": 130,
     "metadata": {},
     "output_type": "execute_result"
    }
   ],
   "source": [
    "y_model=model.predict(Xtest)\n",
    "y_model"
   ]
  },
  {
   "cell_type": "code",
   "execution_count": 131,
   "metadata": {
    "ExecuteTime": {
     "end_time": "2019-07-01T02:04:13.910548Z",
     "start_time": "2019-07-01T02:04:13.879546Z"
    }
   },
   "outputs": [
    {
     "name": "stdout",
     "output_type": "stream",
     "text": [
      "MODEL RESULTS WITH DATASET SPLIT AT 80.0% TRAINING DATA AND 20.0% TEST DATA\n",
      "\n",
      "Model Accuracy:90.0%\n",
      "\n",
      "Iris-setosa Recall:100.0%\n",
      "\n",
      "Iris-setosa Precision:100.0%\n",
      "\n",
      "Iris-versicolor Recall:100.0%\n",
      "\n",
      "Iris-versicolor Precision:76.9%\n",
      "\n",
      "Iris-virginica Recall:72.7%\n",
      "\n",
      "Iris-virginica Precision:100.0%\n",
      "\n"
     ]
    }
   ],
   "source": [
    "accur=accuracy_score(ytest,y_model)\n",
    "recall=recall_score(ytest, y_model,average=None)\n",
    "precision=precision_score(ytest, y_model,average=None)\n",
    "print (f'MODEL RESULTS WITH DATASET SPLIT AT {(1-test_data_size)*100:.1f}% TRAINING DATA AND {test_data_size*100:.1f}% TEST DATA\\n')\n",
    "print(f'Model Accuracy:{accur*100:.1f}%\\n')\n",
    "\n",
    "for i,k in enumerate (classes):\n",
    "    print(f'{k} Recall:{recall[i]*100:.1f}%\\n')\n",
    "    print(f'{k} Precision:{precision[i]*100:.1f}%\\n')"
   ]
  },
  {
   "cell_type": "code",
   "execution_count": 132,
   "metadata": {
    "ExecuteTime": {
     "end_time": "2019-07-01T02:04:13.928549Z",
     "start_time": "2019-07-01T02:04:13.917548Z"
    },
    "collapsed": true
   },
   "outputs": [],
   "source": [
    "cm=confusion_matrix(ytest, y_model)"
   ]
  },
  {
   "cell_type": "code",
   "execution_count": 133,
   "metadata": {
    "ExecuteTime": {
     "end_time": "2019-07-01T02:04:14.408576Z",
     "start_time": "2019-07-01T02:04:13.933549Z"
    }
   },
   "outputs": [
    {
     "data": {
      "image/png": "[encoded data removed]",
      "text/plain": [
       "<matplotlib.figure.Figure at 0xd1f76a0>"
      ]
     },
     "metadata": {},
     "output_type": "display_data"
    }
   ],
   "source": [
    "cm=pd.DataFrame(data=cm,columns=classes,index=classes)\n",
    "sns.heatmap(cm,square=True,annot=True,cbar=True)\n",
    "plt.xlabel('predicted value')\n",
    "plt.ylabel('true value')\n",
    "plt.show()"
   ]
  },
  {
   "cell_type": "code",
   "execution_count": null,
   "metadata": {
    "collapsed": true
   },
   "outputs": [],
   "source": []
  },
  {
   "cell_type": "code",
   "execution_count": null,
   "metadata": {
    "collapsed": true
   },
   "outputs": [],
   "source": []
  },
  {
   "cell_type": "markdown",
   "metadata": {
    "collapsed": true
   },
   "source": [
    "# EXTRA"
   ]
  },
  {
   "cell_type": "code",
   "execution_count": 137,
   "metadata": {
    "ExecuteTime": {
     "end_time": "2019-07-01T02:04:14.494581Z",
     "start_time": "2019-07-01T02:04:14.484580Z"
    }
   },
   "outputs": [],
   "source": [
    "cvs=pd.DataFrame(data=score)"
   ]
  },
  {
   "cell_type": "code",
   "execution_count": 138,
   "metadata": {
    "ExecuteTime": {
     "end_time": "2019-07-01T02:04:14.509582Z",
     "start_time": "2019-07-01T02:04:14.499581Z"
    }
   },
   "outputs": [],
   "source": [
    "cvs.columns.rename('Accuracy',inplace=True)"
   ]
  },
  {
   "cell_type": "code",
   "execution_count": 139,
   "metadata": {
    "ExecuteTime": {
     "end_time": "2019-07-01T02:04:14.531583Z",
     "start_time": "2019-07-01T02:04:14.513582Z"
    }
   },
   "outputs": [
    {
     "data": {
      "text/html": [
       "<div>\n",
       "<style scoped>\n",
       "    .dataframe tbody tr th:only-of-type {\n",
       "        vertical-align: middle;\n",
       "    }\n",
       "\n",
       "    .dataframe tbody tr th {\n",
       "        vertical-align: top;\n",
       "    }\n",
       "\n",
       "    .dataframe thead th {\n",
       "        text-align: right;\n",
       "    }\n",
       "</style>\n",
       "<table border=\"1\" class=\"dataframe\">\n",
       "  <thead>\n",
       "    <tr style=\"text-align: right;\">\n",
       "      <th>Accuracy</th>\n",
       "      <th>0</th>\n",
       "    </tr>\n",
       "  </thead>\n",
       "  <tbody>\n",
       "    <tr>\n",
       "      <th>0</th>\n",
       "      <td>0.966667</td>\n",
       "    </tr>\n",
       "    <tr>\n",
       "      <th>1</th>\n",
       "      <td>0.966667</td>\n",
       "    </tr>\n",
       "    <tr>\n",
       "      <th>2</th>\n",
       "      <td>0.933333</td>\n",
       "    </tr>\n",
       "    <tr>\n",
       "      <th>3</th>\n",
       "      <td>0.966667</td>\n",
       "    </tr>\n",
       "    <tr>\n",
       "      <th>4</th>\n",
       "      <td>1.000000</td>\n",
       "    </tr>\n",
       "  </tbody>\n",
       "</table>\n",
       "</div>"
      ],
      "text/plain": [
       "Accuracy         0\n",
       "0         0.966667\n",
       "1         0.966667\n",
       "2         0.933333\n",
       "3         0.966667\n",
       "4         1.000000"
      ]
     },
     "execution_count": 139,
     "metadata": {},
     "output_type": "execute_result"
    }
   ],
   "source": [
    "cvs"
   ]
  },
  {
   "cell_type": "code",
   "execution_count": 140,
   "metadata": {
    "ExecuteTime": {
     "end_time": "2019-07-01T02:04:14.563585Z",
     "start_time": "2019-07-01T02:04:14.538584Z"
    }
   },
   "outputs": [
    {
     "data": {
      "text/html": [
       "<div>\n",
       "<style scoped>\n",
       "    .dataframe tbody tr th:only-of-type {\n",
       "        vertical-align: middle;\n",
       "    }\n",
       "\n",
       "    .dataframe tbody tr th {\n",
       "        vertical-align: top;\n",
       "    }\n",
       "\n",
       "    .dataframe thead th {\n",
       "        text-align: right;\n",
       "    }\n",
       "</style>\n",
       "<table border=\"1\" class=\"dataframe\">\n",
       "  <thead>\n",
       "    <tr style=\"text-align: right;\">\n",
       "      <th></th>\n",
       "      <th>PCA1</th>\n",
       "      <th>PCA2</th>\n",
       "      <th>Species</th>\n",
       "    </tr>\n",
       "  </thead>\n",
       "  <tbody>\n",
       "    <tr>\n",
       "      <th>0</th>\n",
       "      <td>-2.684207</td>\n",
       "      <td>0.326607</td>\n",
       "      <td>0</td>\n",
       "    </tr>\n",
       "    <tr>\n",
       "      <th>1</th>\n",
       "      <td>-2.715391</td>\n",
       "      <td>-0.169557</td>\n",
       "      <td>0</td>\n",
       "    </tr>\n",
       "    <tr>\n",
       "      <th>2</th>\n",
       "      <td>-2.889820</td>\n",
       "      <td>-0.137346</td>\n",
       "      <td>0</td>\n",
       "    </tr>\n",
       "    <tr>\n",
       "      <th>3</th>\n",
       "      <td>-2.746437</td>\n",
       "      <td>-0.311124</td>\n",
       "      <td>0</td>\n",
       "    </tr>\n",
       "    <tr>\n",
       "      <th>4</th>\n",
       "      <td>-2.728593</td>\n",
       "      <td>0.333925</td>\n",
       "      <td>0</td>\n",
       "    </tr>\n",
       "  </tbody>\n",
       "</table>\n",
       "</div>"
      ],
      "text/plain": [
       "       PCA1      PCA2  Species\n",
       "0 -2.684207  0.326607        0\n",
       "1 -2.715391 -0.169557        0\n",
       "2 -2.889820 -0.137346        0\n",
       "3 -2.746437 -0.311124        0\n",
       "4 -2.728593  0.333925        0"
      ]
     },
     "execution_count": 140,
     "metadata": {},
     "output_type": "execute_result"
    }
   ],
   "source": [
    "dataset.head()"
   ]
  },
  {
   "cell_type": "code",
   "execution_count": 141,
   "metadata": {
    "ExecuteTime": {
     "end_time": "2019-07-01T02:04:14.595587Z",
     "start_time": "2019-07-01T02:04:14.568585Z"
    }
   },
   "outputs": [
    {
     "data": {
      "text/plain": [
       "array([1.        , 1.        , 0.72727273])"
      ]
     },
     "execution_count": 141,
     "metadata": {},
     "output_type": "execute_result"
    }
   ],
   "source": [
    "recall"
   ]
  },
  {
   "cell_type": "code",
   "execution_count": 142,
   "metadata": {
    "ExecuteTime": {
     "end_time": "2019-07-01T02:04:14.611588Z",
     "start_time": "2019-07-01T02:04:14.602587Z"
    }
   },
   "outputs": [
    {
     "data": {
      "text/plain": [
       "['Iris-setosa', 'Iris-versicolor', 'Iris-virginica']"
      ]
     },
     "execution_count": 142,
     "metadata": {},
     "output_type": "execute_result"
    }
   ],
   "source": [
    "classes"
   ]
  },
  {
   "cell_type": "code",
   "execution_count": 143,
   "metadata": {
    "ExecuteTime": {
     "end_time": "2019-07-01T02:04:14.653590Z",
     "start_time": "2019-07-01T02:04:14.618588Z"
    }
   },
   "outputs": [
    {
     "name": "stdout",
     "output_type": "stream",
     "text": [
      "MODEL RESULTS WITH DATASET SPLIT AT 80.0% TRAINING DATA AND 20.0% TEST DATA\n",
      "\n",
      "Model Accuracy:90.0%\n",
      "\n",
      "Iris-setosa Recall:100.0%\n",
      "\n",
      "Iris-setosa Precision:100.0%\n",
      "\n",
      "Iris-versicolor Recall:100.0%\n",
      "\n",
      "Iris-versicolor Precision:76.9%\n",
      "\n",
      "Iris-virginica Recall:72.7%\n",
      "\n",
      "Iris-virginica Precision:100.0%\n",
      "\n"
     ]
    }
   ],
   "source": [
    "accur=accuracy_score(ytest,y_model)\n",
    "recall=recall_score(ytest, y_model,average=None)\n",
    "precision=precision_score(ytest, y_model,average=None)\n",
    "print (f'MODEL RESULTS WITH DATASET SPLIT AT {(1-test_data_size)*100:.1f}% TRAINING DATA AND {test_data_size*100:.1f}% TEST DATA\\n')\n",
    "print(f'Model Accuracy:{accur*100:.1f}%\\n')\n",
    "\n",
    "for i,k in enumerate (classes):\n",
    "    print(f'{k} Recall:{recall[i]*100:.1f}%\\n')\n",
    "    print(f'{k} Precision:{precision[i]*100:.1f}%\\n')\n",
    "    \n",
    "\n"
   ]
  },
  {
   "cell_type": "code",
   "execution_count": null,
   "metadata": {
    "collapsed": true
   },
   "outputs": [],
   "source": []
  }
 ],
 "metadata": {
  "hide_input": false,
  "kernelspec": {
   "display_name": "Python 3",
   "language": "python",
   "name": "python3"
  },
  "language_info": {
   "codemirror_mode": {
    "name": "ipython",
    "version": 3
   },
   "file_extension": ".py",
   "mimetype": "text/x-python",
   "name": "python",
   "nbconvert_exporter": "python",
   "pygments_lexer": "ipython3",
   "version": "3.6.3"
  },
  "latex_envs": {
   "LaTeX_envs_menu_present": true,
   "autoclose": false,
   "autocomplete": true,
   "bibliofile": "biblio.bib",
   "cite_by": "apalike",
   "current_citInitial": 1,
   "eqLabelWithNumbers": true,
   "eqNumInitial": 1,
   "hotkeys": {
    "equation": "Ctrl-E",
    "itemize": "Ctrl-I"
   },
   "labels_anchors": false,
   "latex_user_defs": false,
   "report_style_numbering": false,
   "user_envs_cfg": false
  },
  "toc": {
   "base_numbering": 1,
   "nav_menu": {},
   "number_sections": true,
   "sideBar": true,
   "skip_h1_title": false,
   "title_cell": "Table of Contents",
   "title_sidebar": "Contents",
   "toc_cell": false,
   "toc_position": {
    "height": "calc(100% - 180px)",
    "left": "10px",
    "top": "150px",
    "width": "275px"
   },
   "toc_section_display": true,
   "toc_window_display": true
  },
  "varInspector": {
   "cols": {
    "lenName": 16,
    "lenType": 16,
    "lenVar": 40
   },
   "kernels_config": {
    "python": {
     "delete_cmd_postfix": "",
     "delete_cmd_prefix": "del ",
     "library": "var_list.py",
     "varRefreshCmd": "print(var_dic_list())"
    },
    "r": {
     "delete_cmd_postfix": ") ",
     "delete_cmd_prefix": "rm(",
     "library": "var_list.r",
     "varRefreshCmd": "cat(var_dic_list()) "
    }
   },
   "position": {
    "height": "336px",
    "left": "875.44px",
    "right": "20px",
    "top": "148.991px",
    "width": "371px"
   },
   "types_to_exclude": [
    "module",
    "function",
    "builtin_function_or_method",
    "instance",
    "_Feature"
   ],
   "window_display": false
  }
 },
 "nbformat": 4,
 "nbformat_minor": 2
}
