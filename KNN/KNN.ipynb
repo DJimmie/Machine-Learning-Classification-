{
 "cells": [
  {
   "cell_type": "markdown",
   "metadata": {},
   "source": [
    "# NEAREST NEIGHBORS"
   ]
  },
  {
   "cell_type": "markdown",
   "metadata": {},
   "source": [
    "#### LOAD THE DEPENDANCIES"
   ]
  },
  {
   "cell_type": "code",
   "execution_count": 28,
   "metadata": {
    "collapsed": true
   },
   "outputs": [],
   "source": [
    "import pandas as pd\n",
    "from pandas import set_option\n",
    "from pandas.plotting import scatter_matrix\n",
    "import numpy as np\n",
    "from numpy import set_printoptions\n",
    "\n",
    "import matplotlib.pyplot as plt\n",
    "from matplotlib.colors import ListedColormap\n",
    "\n",
    "import os\n",
    "import sys\n",
    "sys.path.insert(0, \"C:\\\\Users\\\\Crystal\\\\Desktop\\\\Programs\\\\my-modules-and-libraries\")\n",
    "\n",
    "from sklearn import preprocessing\n",
    "from sklearn.model_selection import train_test_split\n",
    "from sklearn.model_selection import KFold\n",
    "from sklearn.preprocessing import MinMaxScaler\n",
    "from sklearn.preprocessing import StandardScaler\n",
    "from sklearn.metrics import confusion_matrix\n",
    "from sklearn.metrics import precision_score,recall_score\n",
    "from sklearn.metrics import f1_score\n",
    "from sklearn.metrics import accuracy_score\n",
    "from sklearn.neighbors import KNeighborsClassifier\n",
    "\n",
    "from scipy import stats\n",
    "import seaborn as sns\n",
    "import math\n",
    "\n"
   ]
  },
  {
   "cell_type": "code",
   "execution_count": 29,
   "metadata": {
    "collapsed": true
   },
   "outputs": [],
   "source": [
    "#### KNN Classifier\n",
    "\n",
    "def KNN(k,X_train,y_train,X_test,y_test):\n",
    "    \"\"\"KNN algorithm\"\"\"\n",
    "    global classifier\n",
    "    \n",
    "    f1_scores=[]\n",
    "    accur=[]\n",
    "    preci=[]\n",
    "    recall=[]\n",
    "    for i in k:\n",
    "        \n",
    "        # Define KNN Model\n",
    "        classifier = KNeighborsClassifier(n_neighbors=i, weights='uniform', algorithm='auto',\n",
    "                                           leaf_size=30, p=3, metric='minkowski',metric_params=None)\n",
    "        # Fit Model\n",
    "        classifier.fit(X_train,y_train)\n",
    "\n",
    "        y_pred = classifier.predict(X_test)\n",
    "        \n",
    "        y_prob=classifier.predict_proba(X_test)\n",
    "        \n",
    "        y_prob=y_prob[:,1]\n",
    "        \n",
    "        f1,a,p,r=metrics(y_test, y_pred)\n",
    "        \n",
    "        f1_scores.append(f1)\n",
    "        accur.append(a)\n",
    "        preci.append(p)\n",
    "        recall.append(r)\n",
    "        \n",
    "    print('\\n','f1_scores: ',f1_scores)\n",
    "    print('accuracy: ',accur)\n",
    "    \n",
    "    return f1_scores,accur,preci,recall,y_pred,y_prob\n",
    "        \n",
    "        "
   ]
  },
  {
   "cell_type": "code",
   "execution_count": 30,
   "metadata": {
    "collapsed": true
   },
   "outputs": [],
   "source": [
    "#### Evaluate Model\n",
    "\n",
    "def metrics(y_test, y_pred):\n",
    "    \"\"\"Confusion matrix and associated metrics\"\"\"\n",
    "    matrix = confusion_matrix(y_test, y_pred)\n",
    "    tn,fp,fn,tp=confusion_matrix(y_test, y_pred).ravel()\n",
    "    precision=precision_score(y_test,y_pred)\n",
    "    recall=recall_score(y_test,y_pred)\n",
    "    f1=f1_score(y_test,y_pred)\n",
    "    accuracy=accuracy_score(y_test,y_pred)\n",
    "    print('Confusion matrix breakdown:',('tn:',tn,'fp:',fp,'fn:',fn,'tp:',tp),'\\n')\n",
    "    print('Confusion matrix:\\n', matrix)\n",
    "    print('Precision: When it predicts yes, how often is it correct?:',precision)\n",
    "    print('Recall.True Positive Rate: When it\\'s actually yes, how often does it predict yes?:',recall)\n",
    "    print('F1:score is the harmonic average of the precision and recall,:',f1)\n",
    "    print('Accuracy.Overall, how often is the classifier correct?: ',accuracy)\n",
    "    print('Misclassification Rate.Overall, how often is it wrong?: ',(1-accuracy))\n",
    "\n",
    "    return (f1,accuracy,precision,recall)\n",
    "    \n"
   ]
  },
  {
   "cell_type": "markdown",
   "metadata": {},
   "source": [
    "#### PREPROCESSING: Replacing zeros where it is not a valid value for that feature.\n",
    "##### This done here by replacing the zero values with a NAN, then replacing the NAN with the average value for non-zero values in that column"
   ]
  },
  {
   "cell_type": "code",
   "execution_count": 31,
   "metadata": {
    "collapsed": true
   },
   "outputs": [],
   "source": [
    "def replacing_zeros(dataset,the_headers):\n",
    "    \"\"\"Function used to remove zeros from numeric features when 0 is not practical\"\"\"\n",
    "\n",
    "    for header in the_headers:\n",
    "        dataset[header]=dataset[header].replace(0,np.nan)\n",
    "        mean=int(dataset[header].mean(skipna=True))\n",
    "        dataset[header]=dataset[header].replace(np.nan,mean)\n",
    "        \n",
    "    return dataset\n"
   ]
  },
  {
   "cell_type": "markdown",
   "metadata": {},
   "source": [
    "#### PREPROCESSING: Split the dataset"
   ]
  },
  {
   "cell_type": "code",
   "execution_count": 32,
   "metadata": {
    "collapsed": true
   },
   "outputs": [],
   "source": [
    "def split_the_dataset(dataset,input_headers,target_header):\n",
    "    \n",
    "#     X=dataset.iloc[:,0,8]\n",
    "#     X=dataset.iloc[:,[1,2,4,5,6,7]]\n",
    "#     y=dataset.iloc[:,8]\n",
    "    X=dataset[input_headers]\n",
    "    y=dataset[target_header]\n",
    "    \n",
    "    X.head()\n",
    "    \n",
    "    return X,y"
   ]
  },
  {
   "cell_type": "markdown",
   "metadata": {},
   "source": [
    "#### PREPROCESSING: Quick look at the features"
   ]
  },
  {
   "cell_type": "code",
   "execution_count": 33,
   "metadata": {
    "collapsed": true,
    "scrolled": false
   },
   "outputs": [],
   "source": [
    "def quick_feature_view(X):\n",
    "    \n",
    "\n",
    "    # X.hist(bins=50,figsize=(15,15))\n",
    "    # X.plot(kind='hist',subplots=True,layout=(3,3),sharex=False, figsize=(15,15))\n",
    "\n",
    "    headers=X.columns.tolist()\n",
    "    fig, axes = plt.subplots(nrows=1, ncols=len(headers), figsize=(20, 10))\n",
    "    print(headers)\n",
    "    for i,head in enumerate(headers,0):\n",
    "\n",
    "        axes[i].hist(x=X[head],bins=50,edgecolor='black')\n",
    "        axes[i].set(title=head)\n",
    "        axes[i].grid()\n",
    "\n",
    "    plt.show()\n",
    "\n",
    "    X.plot(kind='density',subplots=True,layout=(3,3),sharex=False, figsize=(15,15))\n",
    "    plt.show()"
   ]
  },
  {
   "cell_type": "markdown",
   "metadata": {},
   "source": [
    "#### PREPROCESSING:Target Summary"
   ]
  },
  {
   "cell_type": "code",
   "execution_count": 34,
   "metadata": {
    "collapsed": true
   },
   "outputs": [],
   "source": [
    "def target_summary(dataset,target_header):\n",
    "    \"\"\"PREPROCESSING:Target Summary\"\"\"\n",
    "    print(dataset.groupby(target_header).size())\n",
    "    print((dataset.groupby(target_header).size()/len(y)*100))\n"
   ]
  },
  {
   "cell_type": "markdown",
   "metadata": {},
   "source": [
    "#### PREPROCESSING:Train - Test Split of the data"
   ]
  },
  {
   "cell_type": "code",
   "execution_count": 35,
   "metadata": {
    "collapsed": true
   },
   "outputs": [],
   "source": [
    "def split_the_train_test_data(X,y):\n",
    "    \n",
    "    \"\"\"PREPROCESSING:Train - Test Split of the data\"\"\"\n",
    "    X_train,X_test,y_train,y_test=train_test_split(X, y,test_size=.05,random_state=42,shuffle=True)\n",
    "    X_train.head()\n",
    "    \n",
    "    return X_train,X_test,y_train,y_test"
   ]
  },
  {
   "cell_type": "markdown",
   "metadata": {},
   "source": [
    "#### PREPROCESSING: Feature Scaling"
   ]
  },
  {
   "cell_type": "code",
   "execution_count": 36,
   "metadata": {
    "collapsed": true
   },
   "outputs": [],
   "source": [
    "def feature_scaling(X_train,X_test):\n",
    "    sc_X=StandardScaler()\n",
    "    X_train=sc_X.fit_transform(X=X_train,y=None)\n",
    "    X_test=sc_X.fit_transform(X=X_test,y=None)\n",
    "\n",
    "    print(sc_X.fit(X_train))\n",
    "    print(X_train[0:5])\n",
    "    \n",
    "    return X_train, X_test\n",
    "\n"
   ]
  },
  {
   "cell_type": "code",
   "execution_count": null,
   "metadata": {
    "collapsed": true
   },
   "outputs": [],
   "source": []
  },
  {
   "cell_type": "markdown",
   "metadata": {},
   "source": [
    "#### Model Parameters:Choose a value of k by taking the sqrt of the number of data points"
   ]
  },
  {
   "cell_type": "code",
   "execution_count": 37,
   "metadata": {
    "collapsed": true
   },
   "outputs": [],
   "source": [
    "def select_k_value(y_test,list_or_single):\n",
    "    \n",
    "    y_test.size\n",
    "    \n",
    "    if (list_or_single.lower()=='s'):\n",
    "        k=round(math.sqrt(y_test.size))\n",
    "        \n",
    "        if (k%2==0):\n",
    "            k_list=[]\n",
    "            k_list.insert(0,k-1)\n",
    "            k_list.insert(1,k+1)\n",
    "            k=k_list\n",
    "    else:\n",
    "        k=[3,5,7,9,11,13,15,17,19,21]\n",
    "        \n",
    "    print ('Selected k value(s):\\n',k)\n",
    "    return k\n",
    "    "
   ]
  },
  {
   "cell_type": "code",
   "execution_count": 38,
   "metadata": {
    "collapsed": true
   },
   "outputs": [],
   "source": [
    "def plot_the_metrics(f1_scores,accur,preci,recall):\n",
    "\n",
    "    fig, axes = plt.subplots(nrows=2, ncols=2, figsize=(20, 10),sharex='none')\n",
    "    axes[0,0].plot(k,f1_scores,marker='o')\n",
    "    axes[0,1].plot(k,accur,marker='o')\n",
    "    axes[0,0].set(title='F1 Score')\n",
    "    axes[0,1].set(title='Accuracy')\n",
    "    axes[0,0].set(xlabel='K value')\n",
    "    axes[0,1].set(xlabel='K value')\n",
    "#     axes[0,0].set(xlim=(3,21), ylim=(0,1))\n",
    "#     axes[0,1].set(xlim=(3,21), ylim=(0,1))\n",
    "    axes[0,0].set(xticks=range(3,23,2),yticks=np.arange(0,1.1,.1))\n",
    "    axes[0,1].set(xticks=range(3,23,2),yticks=np.arange(0,1.1,.1))\n",
    "    axes[0,0].grid()\n",
    "    axes[0,1].grid()\n",
    "\n",
    "    axes[1,0].plot(k,preci,marker='o')\n",
    "    axes[1,1].plot(k,recall,marker='o')\n",
    "    axes[1,0].set(title='Precision')\n",
    "    axes[1,1].set(title='Recall')\n",
    "    axes[1,0].set(xlabel='K value')\n",
    "    axes[1,1].set(xlabel='K value')\n",
    "#     axes[1,0].set(xlim=(3,21), ylim=(0,1))\n",
    "#     axes[1,1].set(xlim=(3,21), ylim=(0,1))\n",
    "    axes[1,0].set(xticks=range(3,23,2),yticks=np.arange(0,1.1,.1))\n",
    "    axes[1,1].set(xticks=range(3,23,2),yticks=np.arange(0,1.1,.1))\n",
    "    axes[1,0].grid()\n",
    "    axes[1,1].grid()\n",
    "\n",
    "    plt.show()"
   ]
  },
  {
   "cell_type": "code",
   "execution_count": 39,
   "metadata": {
    "collapsed": true
   },
   "outputs": [],
   "source": [
    "def box_plot_the_metrics(f1_scores,accur,preci,recall):\n",
    "    \"\"\"Box plots for the classification metrics over a range of parameter adjustments\"\"\"\n",
    "    \n",
    "    f=np.asarray(f1_scores)\n",
    "    a=np.asarray(accur)\n",
    "    p=np.asarray(preci)\n",
    "    r=np.asarray(recall)\n",
    "    \n",
    "    fig, axes = plt.subplots(nrows=1, ncols=1, figsize=(20, 10))\n",
    "    axes.boxplot([f,a,p,r])\n",
    "    axes.set_xticklabels(['f1_score','accuracy','precision','recall'])\n",
    "    plt.grid()\n",
    "    \n",
    "    plt.show()\n",
    "    "
   ]
  },
  {
   "cell_type": "code",
   "execution_count": 40,
   "metadata": {},
   "outputs": [],
   "source": [
    "def plot_of_data_space(data,labels,input_headers):\n",
    "    \n",
    "    \n",
    "    xx_1=pd.DataFrame(data[:,0]) \n",
    "    xx_2=pd.DataFrame(data[:,1]) \n",
    "    y=pd.DataFrame(labels)\n",
    "\n",
    "#     print(xx_1.head(),'\\n',xx_2.head(),'\\n',y.head())\n",
    "#     print(list(xx_1[y==0]))\n",
    "#     print(list(xx_1[y==1]))\n",
    "    plt.figure(figsize=(15,10)) \n",
    "    b=plt.scatter(xx_1[y==0],xx_2[y==0],color='b') \n",
    "    r=plt.scatter(xx_1[y==1],xx_2[y==1],color='r')\n",
    "\n",
    "#     plt.scatter(data[:,0],data[:,1],s=40,c=labels,cmap=plt.cm.Spectral)\n",
    "#     plt.scatter(x_test[:,0],x_test[:,1],color='black')\n",
    "\n",
    "    plt.xlabel(input_headers[0])\n",
    "    plt.ylabel(input_headers[1])\n",
    "#     plt.xlim(xx_1.min(),xx_1.max())\n",
    "#     plt.ylim(xx_2.min(),xx_2.max())\n",
    "    plt.grid()\n",
    "    plt.legend((b,r),tuple(np.unique(labels)))\n",
    "    plt.show()\n"
   ]
  },
  {
   "cell_type": "code",
   "execution_count": 41,
   "metadata": {
    "collapsed": true
   },
   "outputs": [],
   "source": [
    "def boundary_decision_plot(X,y,X_train,y_train,x_test,y_pred,y_prob):\n",
    "    \n",
    "    X_unscaled=X.values\n",
    "    X_scaled, dummy=feature_scaling(X_unscaled,X_test=1)\n",
    "    xx_1=pd.DataFrame(X_train[:,0]) \n",
    "    xx_2=pd.DataFrame(X_train[:,1]) \n",
    "    y=pd.DataFrame(y_train.values)\n",
    "    \n",
    "#     print(y_train[0:5])\n",
    "#     print(X_train[0:5])\n",
    "\n",
    "    xx_test_1=pd.DataFrame(x_test[:,0]) \n",
    "    xx_test_2=pd.DataFrame(x_test[:,1])\n",
    "\n",
    "    y_predict=pd.DataFrame(y_pred) \n",
    "    y_prob=pd.DataFrame(y_prob) \n",
    "\n",
    "    cmap_light = ListedColormap(['#FFAAAA','#AAAAFF'])\n",
    "\n",
    "#     cmap_bold = ListedColormap(['#FF0000', '#00FF00', '#0000FF'])\n",
    "    cmap_bold = ListedColormap(['#FF0000','#0000FF'])\n",
    "\n",
    "    h=.02\n",
    "\n",
    "#     Plot the decision boundary. For that, we will assign a color to each point in the mesh [x_min, x_max]x[y_min, y_max].\n",
    "#     x1=X_train[:,0] \n",
    "    x1=X_scaled[:,0]\n",
    "    x2=X_scaled[:,1] \n",
    "    x_min,x_max = x1.min()-1,x1.max()+1 \n",
    "    y_min,y_max = x2.min()-1,x2.max()+1 \n",
    "    xx,yy = np.meshgrid(np.arange(x_min,x_max,h),np.arange(y_min,y_max,h))\n",
    "\n",
    "\n",
    "    the_predict=classifier.predict(np.c_[xx.ravel(),yy.ravel()])\n",
    "\n",
    "#     Put the result into a color plot\n",
    "    Z = the_predict.reshape(xx.shape) \n",
    "    plt.figure(figsize=(15,15)) \n",
    "    plt.xlim(xx.min(),xx.max()) \n",
    "    plt.ylim(yy.min(),yy.max())\n",
    "\n",
    "    plt.pcolormesh(xx,yy,Z,cmap=cmap_light)\n",
    "\n",
    "#     plt.scatter(xx_1[y==0],xx_2[y==0],color='b',marker='o') \n",
    "#     plt.scatter(xx_1[y==1],xx_2[y==1],color='r',marker='o')\n",
    "    \n",
    "\n",
    "#     plt.scatter(X_train[:,0],X_train[:,1],s=40,c=y_train,cmap=plt.cm.Spectral)\n",
    "    cm=plt.cm.get_cmap('RdYlBu_r')\n",
    "\n",
    "#     plt.scatter(xx_test_1[y_predict==0],xx_test_2[y_predict==0],cmap=cm,vmin=0,vmax=1,c=y_predict,marker='D') \n",
    "#     plt.scatter(xx_test_1[y_predict==1],xx_test_2[y_predict==1],cmap=cm,vmin=0,vmax=1,c=y_predict,marker='D') \n",
    "    plt.scatter(xx_test_1[y_predict==0],xx_test_2[y_predict==0],cmap=cm,vmin=0,vmax=1,c=y_prob,marker='D') \n",
    "    plt.scatter(xx_test_1[y_predict==1],xx_test_2[y_predict==1],cmap=cm,vmin=0,vmax=1,c=y_prob,marker='D') \n",
    "    plt.colorbar()\n",
    "\n",
    "\n",
    "    plt.grid() \n",
    "    plt.show()\n"
   ]
  },
  {
   "cell_type": "code",
   "execution_count": 42,
   "metadata": {
    "collapsed": true
   },
   "outputs": [],
   "source": [
    "def max_results(f1_scores,accur,preci,recall,k):\n",
    "    \n",
    "    f=np.asarray(f1_scores)\n",
    "    a=np.asarray(accur)\n",
    "    p=np.asarray(preci)\n",
    "    r=np.asarray(recall)\n",
    "    k=np.asarray(k)\n",
    "    \n",
    "    results=f\"\"\"\\n\n",
    "    The max F1 SCORE is {f.max()} with a K value of {k[np.argmax(f)]}\\n\n",
    "    The max ACCURACY is {a.max()} with a K value of {k[np.argmax(a)]}\\n\n",
    "    The max PRECISION is {p.max()} with a K value of {k[np.argmax(p)]}\\n\n",
    "    The max RECALL is {r.max()} with a K value of {k[np.argmax(r)]}\n",
    "    \"\"\"\n",
    "    \n",
    "    print(results)\n",
    "    \n",
    "    \n",
    "    \n",
    "    \n",
    "    "
   ]
  },
  {
   "cell_type": "markdown",
   "metadata": {},
   "source": [
    "# MAIN PROGRAM"
   ]
  },
  {
   "cell_type": "code",
   "execution_count": 43,
   "metadata": {},
   "outputs": [
    {
     "name": "stdout",
     "output_type": "stream",
     "text": [
      "<class 'pandas.core.frame.DataFrame'>\n",
      "RangeIndex: 891 entries, 0 to 890\n",
      "Data columns (total 12 columns):\n",
      "PassengerId    891 non-null int64\n",
      "Survived       891 non-null int64\n",
      "Pclass         891 non-null int64\n",
      "Name           891 non-null object\n",
      "Sex            891 non-null object\n",
      "Age            714 non-null float64\n",
      "SibSp          891 non-null int64\n",
      "Parch          891 non-null int64\n",
      "Ticket         891 non-null object\n",
      "Fare           891 non-null float64\n",
      "Cabin          204 non-null object\n",
      "Embarked       889 non-null object\n",
      "dtypes: float64(2), int64(5), object(5)\n",
      "memory usage: 83.6+ KB\n",
      "None\n"
     ]
    }
   ],
   "source": [
    "if __name__ == \"__main__\":\n",
    "    \n",
    "    global classifier\n",
    "    \n",
    "#     RETRIEVE THE DATASET\n",
    "    \n",
    "    location=r'C:/Users/Crystal/Desktop/Programs/dataset_repo/titan/titantic_1.csv'\n",
    "#     location=r'C:\\Users\\Crystal\\Desktop\\Programs\\dataset_repo\\diabetes.csv'\n",
    "#     location=r'C:\\Users\\Crystal\\Desktop\\Programs\\dataset_repo\\CDH_Train.csv'\n",
    "    dataset=pd.read_csv(location)\n",
    "\n",
    "    print(dataset.info())\n",
    "    dataset.head()"
   ]
  },
  {
   "cell_type": "code",
   "execution_count": 44,
   "metadata": {},
   "outputs": [
    {
     "name": "stdout",
     "output_type": "stream",
     "text": [
      "Do you need to replace any zeros in the dataset?y\n"
     ]
    }
   ],
   "source": [
    "    # Replace zeros with the mean where needed.\n",
    "    rz=input('Do you need to replace any zeros in the dataset?')\n",
    "    if (rz.lower()=='y'):\n",
    "        the_headers=['Age']\n",
    "        dataset=replacing_zeros(dataset,the_headers)\n",
    "        dataset.head()"
   ]
  },
  {
   "cell_type": "markdown",
   "metadata": {},
   "source": [
    "### Selecting inputs and targets"
   ]
  },
  {
   "cell_type": "code",
   "execution_count": 45,
   "metadata": {
    "scrolled": false
   },
   "outputs": [
    {
     "name": "stdout",
     "output_type": "stream",
     "text": [
      "   Parch    Fare  SibSp   Age  Pclass\n",
      "0      0   7.250      1  22.0       3\n",
      "1      0  71.283      1  38.0       1\n",
      "2      0   7.925      0  26.0       3\n",
      "3      0  53.100      1  35.0       1\n",
      "4      0   8.050      0  35.0       3\n"
     ]
    }
   ],
   "source": [
    "    #Selecting inputs and targets\n",
    "    \n",
    "    target_header=['Survived']\n",
    "    input_headers=['Parch','Fare','SibSp','Age','Pclass']\n",
    "    \n",
    "    X,y=split_the_dataset(dataset,input_headers,target_header)\n",
    "    if (X.values.shape[1]==2):\n",
    "        plot_of_data_space(X.values,y.values,input_headers)\n",
    "        \n",
    "    print(X.head())"
   ]
  },
  {
   "cell_type": "code",
   "execution_count": 46,
   "metadata": {
    "collapsed": true,
    "scrolled": false
   },
   "outputs": [],
   "source": [
    "    #Splitting the Train-Test data\n",
    "    X_train,X_test,y_train,y_test=split_the_train_test_data(X,y)\n",
    "\n",
    "    "
   ]
  },
  {
   "cell_type": "code",
   "execution_count": 47,
   "metadata": {},
   "outputs": [
    {
     "name": "stdout",
     "output_type": "stream",
     "text": [
      "StandardScaler(copy=True, with_mean=True, with_std=True)\n",
      "[[ 3.20062586  0.03064387  0.42463228 -1.04363082  0.83275427]\n",
      " [-0.47668896 -0.48612922 -0.47346499 -0.81537365  0.83275427]\n",
      " [-0.47668896 -0.46509718 -0.47346499 -0.51103075  0.83275427]\n",
      " [-0.47668896 -0.50796942 -0.47346499 -0.43494503  0.83275427]\n",
      " [ 1.97485426  1.58587128 -0.47346499  2.15196958 -1.56353863]]\n"
     ]
    }
   ],
   "source": [
    "    #Scale the data    \n",
    "    X_train, X_test=feature_scaling(X_train,X_test)"
   ]
  },
  {
   "cell_type": "code",
   "execution_count": 48,
   "metadata": {},
   "outputs": [
    {
     "name": "stdout",
     "output_type": "stream",
     "text": [
      "(S)ingle or (R)ange of k-values? r\n",
      "Selected k value(s):\n",
      " [3, 5, 7, 9, 11, 13, 15, 17, 19, 21]\n"
     ]
    }
   ],
   "source": [
    "    #Selection of K\n",
    "    list_or_single=input('(S)ingle or (R)ange of k-values? ')\n",
    "    k=select_k_value(y_test,list_or_single)"
   ]
  },
  {
   "cell_type": "code",
   "execution_count": 49,
   "metadata": {
    "scrolled": false
   },
   "outputs": [
    {
     "name": "stdout",
     "output_type": "stream",
     "text": [
      "Confusion matrix breakdown: ('tn:', 21, 'fp:', 6, 'fn:', 9, 'tp:', 9) \n",
      "\n",
      "Confusion matrix:\n",
      " [[21  6]\n",
      " [ 9  9]]\n",
      "Precision: When it predicts yes, how often is it correct?: 0.6\n",
      "Recall.True Positive Rate: When it's actually yes, how often does it predict yes?: 0.5\n",
      "F1:score is the harmonic average of the precision and recall,: 0.5454545454545454\n",
      "Accuracy.Overall, how often is the classifier correct?:  0.6666666666666666\n",
      "Misclassification Rate.Overall, how often is it wrong?:  0.33333333333333337\n",
      "Confusion matrix breakdown: ('tn:', 23, 'fp:', 4, 'fn:', 9, 'tp:', 9) \n",
      "\n",
      "Confusion matrix:\n",
      " [[23  4]\n",
      " [ 9  9]]\n",
      "Precision: When it predicts yes, how often is it correct?: 0.6923076923076923\n",
      "Recall.True Positive Rate: When it's actually yes, how often does it predict yes?: 0.5\n",
      "F1:score is the harmonic average of the precision and recall,: 0.5806451612903226\n",
      "Accuracy.Overall, how often is the classifier correct?:  0.7111111111111111\n",
      "Misclassification Rate.Overall, how often is it wrong?:  0.28888888888888886\n",
      "Confusion matrix breakdown: ('tn:', 23, 'fp:', 4, 'fn:', 9, 'tp:', 9) \n",
      "\n",
      "Confusion matrix:\n",
      " [[23  4]\n",
      " [ 9  9]]\n",
      "Precision: When it predicts yes, how often is it correct?: 0.6923076923076923\n",
      "Recall.True Positive Rate: When it's actually yes, how often does it predict yes?: 0.5\n",
      "F1:score is the harmonic average of the precision and recall,: 0.5806451612903226\n",
      "Accuracy.Overall, how often is the classifier correct?:  0.7111111111111111\n",
      "Misclassification Rate.Overall, how often is it wrong?:  0.28888888888888886\n",
      "Confusion matrix breakdown: ('tn:', 23, 'fp:', 4, 'fn:', 9, 'tp:', 9) \n",
      "\n",
      "Confusion matrix:\n",
      " [[23  4]\n",
      " [ 9  9]]\n",
      "Precision: When it predicts yes, how often is it correct?: 0.6923076923076923\n",
      "Recall.True Positive Rate: When it's actually yes, how often does it predict yes?: 0.5\n",
      "F1:score is the harmonic average of the precision and recall,: 0.5806451612903226\n",
      "Accuracy.Overall, how often is the classifier correct?:  0.7111111111111111\n",
      "Misclassification Rate.Overall, how often is it wrong?:  0.28888888888888886\n",
      "Confusion matrix breakdown: ('tn:', 23, 'fp:', 4, 'fn:', 10, 'tp:', 8) \n",
      "\n",
      "Confusion matrix:\n",
      " [[23  4]\n",
      " [10  8]]\n",
      "Precision: When it predicts yes, how often is it correct?: 0.6666666666666666\n",
      "Recall.True Positive Rate: When it's actually yes, how often does it predict yes?: 0.4444444444444444\n",
      "F1:score is the harmonic average of the precision and recall,: 0.5333333333333333\n",
      "Accuracy.Overall, how often is the classifier correct?:  0.6888888888888889\n",
      "Misclassification Rate.Overall, how often is it wrong?:  0.3111111111111111\n",
      "Confusion matrix breakdown: ('tn:', 24, 'fp:', 3, 'fn:', 11, 'tp:', 7) \n",
      "\n",
      "Confusion matrix:\n",
      " [[24  3]\n",
      " [11  7]]\n",
      "Precision: When it predicts yes, how often is it correct?: 0.7\n",
      "Recall.True Positive Rate: When it's actually yes, how often does it predict yes?: 0.3888888888888889\n",
      "F1:score is the harmonic average of the precision and recall,: 0.5\n",
      "Accuracy.Overall, how often is the classifier correct?:  0.6888888888888889\n",
      "Misclassification Rate.Overall, how often is it wrong?:  0.3111111111111111\n",
      "Confusion matrix breakdown:"
     ]
    },
    {
     "name": "stderr",
     "output_type": "stream",
     "text": [
      "C:\\Users\\Public\\Programming\\lib\\site-packages\\ipykernel_launcher.py:17: DataConversionWarning: A column-vector y was passed when a 1d array was expected. Please change the shape of y to (n_samples, ), for example using ravel().\n"
     ]
    },
    {
     "name": "stdout",
     "output_type": "stream",
     "text": [
      " ('tn:', 23, 'fp:', 4, 'fn:', 10, 'tp:', 8) \n",
      "\n",
      "Confusion matrix:\n",
      " [[23  4]\n",
      " [10  8]]\n",
      "Precision: When it predicts yes, how often is it correct?: 0.6666666666666666\n",
      "Recall.True Positive Rate: When it's actually yes, how often does it predict yes?: 0.4444444444444444\n",
      "F1:score is the harmonic average of the precision and recall,: 0.5333333333333333\n",
      "Accuracy.Overall, how often is the classifier correct?:  0.6888888888888889\n",
      "Misclassification Rate.Overall, how often is it wrong?:  0.3111111111111111\n",
      "Confusion matrix breakdown: ('tn:', 22, 'fp:', 5, 'fn:', 10, 'tp:', 8) \n",
      "\n",
      "Confusion matrix:\n",
      " [[22  5]\n",
      " [10  8]]\n",
      "Precision: When it predicts yes, how often is it correct?: 0.6153846153846154\n",
      "Recall.True Positive Rate: When it's actually yes, how often does it predict yes?: 0.4444444444444444\n",
      "F1:score is the harmonic average of the precision and recall,: 0.5161290322580646\n",
      "Accuracy.Overall, how often is the classifier correct?:  0.6666666666666666\n",
      "Misclassification Rate.Overall, how often is it wrong?:  0.33333333333333337\n",
      "Confusion matrix breakdown: ('tn:', 22, 'fp:', 5, 'fn:', 10, 'tp:', 8) \n",
      "\n",
      "Confusion matrix:\n",
      " [[22  5]\n",
      " [10  8]]\n",
      "Precision: When it predicts yes, how often is it correct?: 0.6153846153846154\n",
      "Recall.True Positive Rate: When it's actually yes, how often does it predict yes?: 0.4444444444444444\n",
      "F1:score is the harmonic average of the precision and recall,: 0.5161290322580646\n",
      "Accuracy.Overall, how often is the classifier correct?:  0.6666666666666666\n",
      "Misclassification Rate.Overall, how often is it wrong?:  0.33333333333333337\n",
      "Confusion matrix breakdown: ('tn:', 22, 'fp:', 5, 'fn:', 10, 'tp:', 8) \n",
      "\n",
      "Confusion matrix:\n",
      " [[22  5]\n",
      " [10  8]]\n",
      "Precision: When it predicts yes, how often is it correct?: 0.6153846153846154\n",
      "Recall.True Positive Rate: When it's actually yes, how often does it predict yes?: 0.4444444444444444\n",
      "F1:score is the harmonic average of the precision and recall,: 0.5161290322580646\n",
      "Accuracy.Overall, how often is the classifier correct?:  0.6666666666666666\n",
      "Misclassification Rate.Overall, how often is it wrong?:  0.33333333333333337\n",
      "\n",
      " f1_scores:  [0.5454545454545454, 0.5806451612903226, 0.5806451612903226, 0.5806451612903226, 0.5333333333333333, 0.5, 0.5333333333333333, 0.5161290322580646, 0.5161290322580646, 0.5161290322580646]\n",
      "accuracy:  [0.6666666666666666, 0.7111111111111111, 0.7111111111111111, 0.7111111111111111, 0.6888888888888889, 0.6888888888888889, 0.6888888888888889, 0.6666666666666666, 0.6666666666666666, 0.6666666666666666]\n",
      "[0 0 0 1 0 1 0 0 0 1 1 0 0 0 0 1 1 0 1 1 0 1 0 0 0 0 0 0 0 0 0 0 1 0 0 0 1\n",
      " 0 1 0 1 0 0 0 0]\n",
      "[0.38095238 0.47619048 0.23809524 0.95238095 0.23809524 0.76190476\n",
      " 0.14285714 0.33333333 0.28571429 0.9047619  0.80952381 0.14285714\n",
      " 0.19047619 0.04761905 0.42857143 0.76190476 0.71428571 0.14285714\n",
      " 0.52380952 0.71428571 0.28571429 0.57142857 0.23809524 0.14285714\n",
      " 0.19047619 0.19047619 0.42857143 0.47619048 0.14285714 0.\n",
      " 0.19047619 0.23809524 0.57142857 0.14285714 0.19047619 0.28571429\n",
      " 0.66666667 0.14285714 0.57142857 0.14285714 0.80952381 0.28571429\n",
      " 0.14285714 0.14285714 0.33333333]\n"
     ]
    }
   ],
   "source": [
    "    #Call the KNN function\n",
    "    f1_scores,accur,preci,recall,y_pred,y_prob=KNN(k,X_train,y_train,X_test,y_test)\n",
    "    print(y_pred)\n",
    "    print(y_prob)"
   ]
  },
  {
   "cell_type": "code",
   "execution_count": 50,
   "metadata": {
    "scrolled": false
   },
   "outputs": [
    {
     "data": {
      "image/png": "[encoded data removed]",
      "text/plain": [
       "<matplotlib.figure.Figure at 0xbc14be0>"
      ]
     },
     "metadata": {},
     "output_type": "display_data"
    }
   ],
   "source": [
    "    #Plot the metrics\n",
    "    plot_the_metrics(f1_scores,accur,preci,recall)\n",
    "    "
   ]
  },
  {
   "cell_type": "code",
   "execution_count": 51,
   "metadata": {},
   "outputs": [
    {
     "data": {
      "image/png": "[encoded data removed]",
      "text/plain": [
       "<matplotlib.figure.Figure at 0xb57ed68>"
      ]
     },
     "metadata": {},
     "output_type": "display_data"
    }
   ],
   "source": [
    "    #Box plot of the metrics\n",
    "    box_plot_the_metrics(f1_scores,accur,preci,recall)"
   ]
  },
  {
   "cell_type": "code",
   "execution_count": 52,
   "metadata": {
    "scrolled": true
   },
   "outputs": [
    {
     "name": "stdout",
     "output_type": "stream",
     "text": [
      "\n",
      "\n",
      "    The max F1 SCORE is 0.5806451612903226 with a K value of 5\n",
      "\n",
      "    The max ACCURACY is 0.7111111111111111 with a K value of 5\n",
      "\n",
      "    The max PRECISION is 0.7 with a K value of 13\n",
      "\n",
      "    The max RECALL is 0.5 with a K value of 3\n",
      "    \n"
     ]
    }
   ],
   "source": [
    "max_results(f1_scores,accur,preci,recall,k)"
   ]
  },
  {
   "cell_type": "code",
   "execution_count": 53,
   "metadata": {
    "scrolled": false
   },
   "outputs": [],
   "source": [
    "    #Plot the decision boundaries (for input vectors only)\n",
    "    \n",
    "    if (X.values.shape[1]==2):\n",
    "        boundary_decision_plot(X,y,X_train,y_train,X_test,y_pred,y_prob)"
   ]
  },
  {
   "cell_type": "code",
   "execution_count": 54,
   "metadata": {},
   "outputs": [
    {
     "data": {
      "text/plain": [
       "array([[ 1.33978769, -0.30418332,  0.6476597 ,  0.25287948,  0.73129238],\n",
       "       [-0.43346072, -0.57280565, -0.51812776,  0.46558185, -0.44399894],\n",
       "       [-0.43346072, -0.71854996, -0.51812776, -0.70428118,  0.73129238],\n",
       "       [ 1.33978769,  0.70068834, -0.51812776, -2.19319776, -0.44399894],\n",
       "       [-0.43346072, -0.53080865,  0.6476597 , -1.34238828,  0.73129238],\n",
       "       [-0.43346072,  3.29578611, -0.51812776, -0.06617407, -1.61929026],\n",
       "       [-0.43346072, -0.72845492, -0.51812776,  0.25287948,  0.73129238],\n",
       "       [-0.43346072, -0.14830765,  1.81344716, -1.12968591,  0.73129238],\n",
       "       [-0.43346072, -0.72845492, -0.51812776, -1.12968591,  0.73129238],\n",
       "       [ 3.1130361 ,  0.32050794, -0.51812776, -0.81063236, -1.61929026],\n",
       "       [-0.43346072,  1.83834298,  0.6476597 ,  1.10368896, -1.61929026],\n",
       "       [-0.43346072, -0.711475  , -0.51812776,  1.84814725,  0.73129238],\n",
       "       [ 1.33978769,  0.27432256,  2.97923462,  0.25287948,  0.73129238],\n",
       "       [-0.43346072, -0.75816978, -0.51812776,  0.35923067,  0.73129238],\n",
       "       [-0.43346072, -0.43130632, -0.51812776,  0.99733777, -0.44399894],\n",
       "       [ 1.33978769,  1.06292664, -0.51812776, -1.12968591, -1.61929026],\n",
       "       [-0.43346072,  1.80743952,  0.6476597 ,  1.63544488, -1.61929026],\n",
       "       [-0.43346072, -0.72398354, -0.51812776,  0.25287948,  0.73129238],\n",
       "       [-0.43346072, -0.43130632, -0.51812776,  0.04017711, -0.44399894],\n",
       "       [-0.43346072,  1.77608327, -0.51812776,  2.1672008 , -1.61929026],\n",
       "       [-0.43346072, -0.72019135, -0.51812776, -0.27887644,  0.73129238],\n",
       "       [-0.43346072,  0.33562007, -0.51812776,  0.7846354 , -1.61929026],\n",
       "       [-0.43346072, -0.72256854,  0.6476597 , -0.81063236,  0.73129238],\n",
       "       [-0.43346072, -0.64497031, -0.51812776, -0.70428118,  0.73129238],\n",
       "       [-0.43346072, -0.34640672, -0.51812776,  0.25287948,  0.73129238],\n",
       "       [ 3.1130361 ,  0.41202971,  2.97923462, -1.76779302,  0.73129238],\n",
       "       [-0.43346072,  0.40189835, -0.51812776,  1.42274251, -1.61929026],\n",
       "       [-0.43346072, -0.43130632, -0.51812776,  0.46558185, -0.44399894],\n",
       "       [ 3.1130361 ,  0.41202971,  2.97923462, -2.40590013,  0.73129238],\n",
       "       [-0.43346072, -0.72256854, -0.51812776,  0.46558185,  0.73129238],\n",
       "       [-0.43346072, -0.72019135, -0.51812776, -0.81063236,  0.73129238],\n",
       "       [-0.43346072, -0.72845492, -0.51812776, -0.49157881,  0.73129238],\n",
       "       [-0.43346072,  0.57028256, -0.51812776,  0.25287948, -1.61929026],\n",
       "       [-0.43346072, -0.73977486, -0.51812776,  0.25287948,  0.73129238],\n",
       "       [-0.43346072, -0.711475  , -0.51812776, -0.91698354,  0.73129238],\n",
       "       [-0.43346072, -0.34901031,  0.6476597 ,  0.04017711,  0.73129238],\n",
       "       [-0.43346072,  0.84218768, -0.51812776,  0.1465283 , -1.61929026],\n",
       "       [-0.43346072, -0.72845492, -0.51812776,  0.25287948,  0.73129238],\n",
       "       [-0.43346072,  0.58748888, -0.51812776,  0.35923067, -1.61929026],\n",
       "       [-0.43346072, -0.72019135, -0.51812776,  0.25287948,  0.73129238],\n",
       "       [-0.43346072,  2.99297753,  1.81344716, -0.59792999, -0.44399894],\n",
       "       [-0.43346072, -0.76830113,  0.6476597 ,  0.25287948,  0.73129238],\n",
       "       [-0.43346072, -0.711475  , -0.51812776,  0.25287948,  0.73129238],\n",
       "       [-0.43346072, -0.72845492, -0.51812776,  0.25287948,  0.73129238],\n",
       "       [ 1.33978769, -0.34901031, -0.51812776,  1.95449843,  0.73129238]])"
      ]
     },
     "execution_count": 54,
     "metadata": {},
     "output_type": "execute_result"
    }
   ],
   "source": [
    "X_test"
   ]
  },
  {
   "cell_type": "code",
   "execution_count": null,
   "metadata": {
    "collapsed": true
   },
   "outputs": [],
   "source": []
  }
 ],
 "metadata": {
  "kernelspec": {
   "display_name": "Python 3",
   "language": "python",
   "name": "python3"
  },
  "language_info": {
   "codemirror_mode": {
    "name": "ipython",
    "version": 3
   },
   "file_extension": ".py",
   "mimetype": "text/x-python",
   "name": "python",
   "nbconvert_exporter": "python",
   "pygments_lexer": "ipython3",
   "version": "3.6.3"
  }
 },
 "nbformat": 4,
 "nbformat_minor": 2
}
