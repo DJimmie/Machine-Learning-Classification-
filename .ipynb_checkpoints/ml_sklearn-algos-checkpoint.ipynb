{
 "cells": [
  {
   "cell_type": "code",
   "execution_count": 1,
   "metadata": {
    "collapsed": true
   },
   "outputs": [],
   "source": [
    "import pandas as pd\n",
    "from pandas import set_option\n",
    "import numpy as np\n",
    "from numpy import set_printoptions\n",
    "import datetime\n",
    "\n",
    "# import tkinter\n",
    "\n",
    "\n",
    "# import matplotlib.pyplot as plt\n",
    "import matplotlib\n",
    "matplotlib.use(\"TkAgg\")\n",
    "from matplotlib.backends.backend_tkagg import FigureCanvasTkAgg, NavigationToolbar2TkAgg\n",
    "# Implement the default Matplotlib key bindings.\n",
    "from matplotlib.backend_bases import key_press_handler\n",
    "from matplotlib.figure import Figure\n",
    "from pandas.plotting import scatter_matrix\n",
    "\n",
    "import tkinter.ttk\n",
    "from tkinter import filedialog\n",
    "from tkinter import messagebox\n",
    "from tkinter import *\n",
    "\n",
    "\n",
    "import os\n",
    "import sys\n",
    "sys.path.insert(0, \"C:\\\\Users\\\\Crystal\\\\Desktop\\\\Programs\\\\my-modules-and-libraries\")\n",
    "\n",
    "from sklearn import preprocessing\n",
    "from sklearn.model_selection import train_test_split\n",
    "from sklearn.model_selection import KFold\n",
    "from sklearn.preprocessing import MinMaxScaler\n",
    "from scipy import stats\n",
    "\n",
    "import my_gui_maker as gm\n",
    "import data_wrangle as dw\n"
   ]
  },
  {
   "cell_type": "code",
   "execution_count": 2,
   "metadata": {
    "collapsed": true
   },
   "outputs": [],
   "source": [
    "def open_file_dialog():\n",
    "    \"\"\"(1-9-2018) Allows user to select dataset using file dialog window. The default directory is the 'dataset_repo'\"\"\"\n",
    "    \n",
    "    my_path='C:\\\\Users\\\\Crystal\\\\Desktop\\\\Programs\\\\dataset_repo'\n",
    "    x=filedialog.askopenfilename(initialdir = my_path,title = \"Data Repository\",filetypes = ((\"all files\",\"*.*\"),(\"jpeg files\",\"*.jpg\"))) \n",
    "    filename, file_extension = os.path.splitext(x)\n",
    "    print (filename) \n",
    "    print (file_extension)\n",
    "    \n",
    "    \n",
    "    the_filename=filename.split('/')[-1]\n",
    "    the_path=filename.partition('/'+the_filename)[0]\n",
    "    the_extension=file_extension.split('.')[-1]\n",
    "    \n",
    "    the_file=filename+'.'+the_extension\n",
    "    print (filename+'.'+the_extension)\n",
    "    get_data(the_file)\n"
   ]
  },
  {
   "cell_type": "code",
   "execution_count": 3,
   "metadata": {
    "collapsed": true
   },
   "outputs": [],
   "source": [
    "def get_data (location,names=None):\n",
    "    \"\"\"(1-19-2019) Retrieves the data the user selected from the file dialog box. \n",
    "    The Data Info frame (f1) is created where the data info is display as a Treeview.\n",
    "    The dlc frame is created where the data.head() is displayed in list box format.\"\"\"\n",
    "#     the_data=pd.read_csv(location,usecols=names)\n",
    "    \n",
    "    data=pd.read_csv(location)\n",
    "#     set_option('precision',3)\n",
    "    data=data.round(3)\n",
    "\n",
    "    data_info=dw.data_info(data)\n",
    "    \n",
    "    print(data.head(20))\n",
    "    print(data.info())\n",
    "    \n",
    "    data_ops_select(data_info,data)\n",
    "    \n",
    "    \n",
    "       \n",
    "    \n",
    "    "
   ]
  },
  {
   "cell_type": "code",
   "execution_count": 4,
   "metadata": {
    "collapsed": true
   },
   "outputs": [],
   "source": [
    "def data_ops_select(data_info,data):\n",
    "    \n",
    "#     f1=gm.My_Frame(root)\n",
    "#     f1['bg']='grey'\n",
    "#     f1.frame_header('Data Info',0,0)\n",
    "    f1.place_frame(0,0)\n",
    "    f1.the_tree(2,0,data_info)\n",
    "    \n",
    "#     list_by=['Metrics','TBD_1','TBD_2']\n",
    "#     radioframe=gm.My_Frame(f1)\n",
    "    radioframe.place_frame(2,2)\n",
    "    radioframe.radio_button(list_by,0,0,radio_select_comm)\n",
    "    radioframe.radios[2].invoke()\n",
    "    \n",
    "    \n",
    "    dlc=gm.My_Frame(root)\n",
    "#     dlc.frame_header('Data Head',0,0)\n",
    "    dlc.my_dlist_canvas(1,0,data.head())\n",
    "    dlc.place_frame(3,0)"
   ]
  },
  {
   "cell_type": "code",
   "execution_count": 5,
   "metadata": {
    "collapsed": true
   },
   "outputs": [],
   "source": [
    "def radio_select_comm(*args):\n",
    "    \"\"\"Takes action based on radiobutton selection.\"\"\"\n",
    "\n",
    "#     global your_list\n",
    "    print(radioframe.var.get())\n",
    "\n",
    "    x=radioframe.var.get()\n",
    "    print ('x:',x)"
   ]
  },
  {
   "cell_type": "code",
   "execution_count": 6,
   "metadata": {
    "collapsed": true
   },
   "outputs": [],
   "source": [
    "def bye_bye():\n",
    "    root.destroy()\n",
    "    sys.exit()"
   ]
  },
  {
   "cell_type": "code",
   "execution_count": 7,
   "metadata": {
    "scrolled": false
   },
   "outputs": [
    {
     "name": "stdout",
     "output_type": "stream",
     "text": [
      "C:/Users/Crystal/Desktop/Programs/dataset_repo/CDH_Test\n",
      ".csv\n",
      "C:/Users/Crystal/Desktop/Programs/dataset_repo/CDH_Test.csv\n",
      "    Length  Width  y  Species\n",
      "0     4.96   1.01  0  Unknown\n",
      "1     1.86   1.40  1      Dog\n",
      "2     1.26   0.47  0      Cat\n",
      "3     7.15   0.47  0  Unknown\n",
      "4     2.90   1.38  1      Dog\n",
      "5     7.19   2.22  0    Horse\n",
      "6     1.16   1.28  0  Unknown\n",
      "7     6.63   2.38  0    Horse\n",
      "8     3.30   0.67  0  Unknown\n",
      "9     6.24   1.60  0    Horse\n",
      "10    1.64   1.04  1      Dog\n",
      "11    7.18   1.84  0    Horse\n",
      "12    4.97   0.59  0  Unknown\n",
      "13    5.19   1.54  0  Unknown\n",
      "14    1.52   1.58  1      Dog\n",
      "15    4.93   1.98  0  Unknown\n",
      "16    5.13   2.36  0  Unknown\n",
      "17    4.94   1.59  0  Unknown\n",
      "18    2.10   1.76  1      Dog\n",
      "19    6.23   2.20  0    Horse\n",
      "<class 'pandas.core.frame.DataFrame'>\n",
      "RangeIndex: 725 entries, 0 to 724\n",
      "Data columns (total 4 columns):\n",
      "Length     725 non-null float64\n",
      "Width      725 non-null float64\n",
      "y          725 non-null int64\n",
      "Species    725 non-null object\n",
      "dtypes: float64(2), int64(1), object(1)\n",
      "memory usage: 22.7+ KB\n",
      "None\n",
      "0\n",
      "x: 0\n",
      "0\n",
      "x: 0\n",
      "0\n",
      "x: 0\n"
     ]
    },
    {
     "ename": "SystemExit",
     "evalue": "",
     "output_type": "error",
     "traceback": [
      "An exception has occurred, use %tb to see the full traceback.\n",
      "\u001b[1;31mSystemExit\u001b[0m\n"
     ]
    },
    {
     "name": "stderr",
     "output_type": "stream",
     "text": [
      "C:\\Users\\Public\\Programming\\lib\\site-packages\\IPython\\core\\interactiveshell.py:2870: UserWarning: To exit: use 'exit', 'quit', or Ctrl-D.\n",
      "  warn(\"To exit: use 'exit', 'quit', or Ctrl-D.\", stacklevel=1)\n"
     ]
    }
   ],
   "source": [
    "if __name__ == \"__main__\":\n",
    "    \n",
    "    root=gm.my_window(None)\n",
    "    \n",
    "    menubar=Menu(root)\n",
    "    menubar.add_command(label=\"Get the Data\", command=lambda: open_file_dialog())\n",
    "    menubar.add_command(label=\"Exit\", command=lambda: bye_bye())\n",
    "    menubar.config(font=(\"Verdana\", 14))\n",
    "    \n",
    "    root.config(menu=menubar)\n",
    "    \n",
    "    f1=gm.My_Frame(root)\n",
    "    f1['bg']='grey'\n",
    "    f1.frame_header('Data Info',0,0)\n",
    "    \n",
    "    list_by=['Metrics','TBD_1','TBD_2']\n",
    "    radioframe=gm.My_Frame(f1)\n",
    "#     radioframe.radio_button(list_by,0,0,radio_select_comm)\n",
    "#     radioframe.radios[2].invoke()\n",
    "    \n",
    "    root.mainloop()\n",
    "    \n",
    "    "
   ]
  },
  {
   "cell_type": "code",
   "execution_count": null,
   "metadata": {
    "collapsed": true
   },
   "outputs": [],
   "source": []
  }
 ],
 "metadata": {
  "kernelspec": {
   "display_name": "Python 3",
   "language": "python",
   "name": "python3"
  },
  "language_info": {
   "codemirror_mode": {
    "name": "ipython",
    "version": 3
   },
   "file_extension": ".py",
   "mimetype": "text/x-python",
   "name": "python",
   "nbconvert_exporter": "python",
   "pygments_lexer": "ipython3",
   "version": "3.6.3"
  }
 },
 "nbformat": 4,
 "nbformat_minor": 2
}
